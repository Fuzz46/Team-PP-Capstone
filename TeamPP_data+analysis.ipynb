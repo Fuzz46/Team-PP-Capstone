{
 "cells": [
  {
   "cell_type": "code",
   "execution_count": 1,
   "metadata": {
    "collapsed": true
   },
   "outputs": [],
   "source": [
    "import pandas as pd\n",
    "import numpy as np\n",
    "import statistics\n",
    "import matplotlib.pyplot as plt\n",
    "%matplotlib inline"
   ]
  },
  {
   "cell_type": "code",
   "execution_count": 4,
   "metadata": {
    "collapsed": true
   },
   "outputs": [],
   "source": [
    "#Household Characteristics: Roster\n",
    "sect1_hh_w3 = pd.read_csv(\"C:\\\\Users\\\\ntawi\\\\Desktop\\\\sect1_hh_w3.csv\")\n",
    "sect1_hh_w3 = pd.DataFrame(sect1_hh_w3)\n",
    "#sect1_hh_w3.head()"
   ]
  },
  {
   "cell_type": "code",
   "execution_count": 5,
   "metadata": {
    "collapsed": true
   },
   "outputs": [],
   "source": [
    "#Descriptive stats\n",
    "#sect1_hh_w3.describe()"
   ]
  },
  {
   "cell_type": "code",
   "execution_count": 6,
   "metadata": {
    "collapsed": true
   },
   "outputs": [],
   "source": [
    "#drop last four columns from sect1_hh_w3\n",
    "x = ['hh_s1q34', 'hh_s1q35', 'hh_s1q36', 'hh_s1q37']\n",
    "\n",
    "for i in x:\n",
    "    sect1_hh_w3.drop(i, axis = 1, inplace=True, errors = 'ignore') \n",
    "    \n",
    "#print(sect1_hh_w3.columns)"
   ]
  },
  {
   "cell_type": "code",
   "execution_count": 8,
   "metadata": {},
   "outputs": [],
   "source": [
    "#Drop columns that have all NAN\n",
    "#sect1_hh_w3.dropna(axis=1, how='all')\n",
    "#sect1_hh_w3.head()"
   ]
  },
  {
   "cell_type": "code",
   "execution_count": 9,
   "metadata": {
    "collapsed": true
   },
   "outputs": [],
   "source": [
    "#filling in missing data\n",
    "#sect1_hh_w3.fillna(0).head()"
   ]
  },
  {
   "cell_type": "code",
   "execution_count": 10,
   "metadata": {
    "collapsed": true
   },
   "outputs": [],
   "source": [
    "#Household Characteristics: Education  \n",
    "sect2_hh_w3 = pd.read_csv(\"C:\\\\Users\\\\ntawi\\\\Desktop\\\\sect2_hh_w3.csv\")\n",
    "sect2_hh_w3 = pd.DataFrame(sect2_hh_w3)\n",
    "#sect2_hh_w3.head()"
   ]
  },
  {
   "cell_type": "code",
   "execution_count": 11,
   "metadata": {
    "collapsed": true
   },
   "outputs": [],
   "source": [
    "#sect2_hh_w3.info()"
   ]
  },
  {
   "cell_type": "code",
   "execution_count": 12,
   "metadata": {
    "collapsed": true
   },
   "outputs": [],
   "source": [
    "#drop columns from sect2_hh_w3\n",
    "y = ['hh_s2q09', 'hh_s2q10', 'hh_s2q11', 'hh_s2q12', 'hh_s2q13', 'hh_s2q14', 'hh_s2q15', 'hh_s2q16', 'hh_s2q17', 'hh_s2q18',\n",
    "    'sq2q11_others']\n",
    "\n",
    "for i in y:\n",
    "    sect2_hh_w3.drop(i, axis = 1, inplace=True, errors = 'ignore') \n",
    "    \n",
    "#print(sect2_hh_w3.columns)"
   ]
  },
  {
   "cell_type": "code",
   "execution_count": 14,
   "metadata": {},
   "outputs": [],
   "source": [
    "#Drop columns that have all NAN\n",
    "#sect2_hh_w3.dropna(axis=1, how='all')\n",
    "#sect2_hh_w3.head()"
   ]
  },
  {
   "cell_type": "code",
   "execution_count": 15,
   "metadata": {
    "collapsed": true
   },
   "outputs": [],
   "source": [
    "#filling in missing data\n",
    "#sect2_hh_w3.fillna(0).head()"
   ]
  },
  {
   "cell_type": "code",
   "execution_count": 16,
   "metadata": {
    "collapsed": true
   },
   "outputs": [],
   "source": [
    "#Household characteristics: Labor and Time Use\n",
    "sect4_hh_w3 = pd.read_csv(\"C:\\\\Users\\\\ntawi\\\\Desktop\\\\sect4_hh_w3.csv\")\n",
    "sect4_hh_w3 = pd.DataFrame(sect4_hh_w3)\n",
    "#sect4_hh_w3.head()"
   ]
  },
  {
   "cell_type": "code",
   "execution_count": 17,
   "metadata": {
    "collapsed": true
   },
   "outputs": [],
   "source": [
    "#drop columns from sect4_hh_w3\n",
    "z = ['hh_s4q05', 'hh_s4q06', 'hh_s4q07', 'hh_s4q08', 'hh_s4q09', 'hh_s4q10', \n",
    "     'hh_s4q10a', 'hh_s4q10b', 'hh_s4q11','hh_s4q12', 'hh_s4q13', 'hh_s4q14', \n",
    "     'hh_s4q15', 'hh_s4q16', 'hh_s4q17', 'hh_s4q18', 'hh_s4q19', 'hh_s4q20', \n",
    "     'hh_s4q21a', 'hh_s4q21b','hh_s4q22a', 'hh_s4q22b', 'hh_s4q23', 'hh_s4q24', \n",
    "     'hh_s4q25', 'hh_s4q26', 'hh_s4q27','hh_s4q28', 'hh_s4q29', 'hh_s4q30', 'hh_s4q31', \n",
    "     'hh_s4q32', 'hh_s4q33', 'hh_s4q34', 'hh_s4q35', 'hh_s4q36', 'hh_s4q37', 'hh_s4q38']\n",
    "\n",
    "for i in z:\n",
    "    sect4_hh_w3.drop(i, axis = 1, inplace=True, errors = 'ignore')\n",
    "    \n",
    "#print(sect4_hh_w3.columns)"
   ]
  },
  {
   "cell_type": "code",
   "execution_count": 18,
   "metadata": {
    "collapsed": true
   },
   "outputs": [],
   "source": [
    "#Drop columns that have all NAN\n",
    "#sect4_hh_w3.dropna(axis=1, how='all')\n",
    "#sect4_hh_w3.head()"
   ]
  },
  {
   "cell_type": "code",
   "execution_count": 19,
   "metadata": {
    "collapsed": true
   },
   "outputs": [],
   "source": [
    "#filling in missing data\n",
    "#sect4_hh_w3.fillna(0).head()"
   ]
  },
  {
   "cell_type": "code",
   "execution_count": 20,
   "metadata": {
    "collapsed": true
   },
   "outputs": [],
   "source": [
    "#Post-harvest: Harvest labor \n",
    "sect10_ph_w3 = pd.read_csv(\"C:\\\\Users\\\\ntawi\\\\Desktop\\\\sect10_ph_w3.csv\")\n",
    "sect10_ph_w3 = pd.DataFrame(sect10_ph_w3)\n",
    "#sect10_ph_w3.head()"
   ]
  },
  {
   "cell_type": "code",
   "execution_count": 21,
   "metadata": {
    "collapsed": true
   },
   "outputs": [],
   "source": [
    "#Drop columns that have all NAN\n",
    "#sect10_ph_w3.dropna(axis=1, how='all')\n",
    "#sect10_ph_w3.head()"
   ]
  },
  {
   "cell_type": "code",
   "execution_count": 22,
   "metadata": {
    "collapsed": true
   },
   "outputs": [],
   "source": [
    "#filling in missing data\n",
    "#sect10_ph_w3.fillna(0).head()"
   ]
  },
  {
   "cell_type": "code",
   "execution_count": 23,
   "metadata": {
    "collapsed": true
   },
   "outputs": [],
   "source": [
    "#Post-harvest: Crop Utilization (cereals, pulses, oil seeds)\n",
    "sect11_ph_w3 = pd.read_csv(\"C:\\\\Users\\\\ntawi\\\\Desktop\\\\sect11_ph_w3.csv\")\n",
    "sect11_ph_w3 = pd.DataFrame(sect11_ph_w3)\n",
    "#sect11_ph_w3.head()"
   ]
  },
  {
   "cell_type": "code",
   "execution_count": 24,
   "metadata": {
    "collapsed": true
   },
   "outputs": [],
   "source": [
    "#drop columns with all nan \n",
    "#sect11_ph_w3 = sect11_ph_w3.dropna(axis=1, how='all')\n",
    "#sect11_ph_w3.head()"
   ]
  },
  {
   "cell_type": "code",
   "execution_count": 25,
   "metadata": {
    "collapsed": true
   },
   "outputs": [],
   "source": [
    "#filling in missing data\n",
    "#sect11_ph_w3.fillna(0).head()"
   ]
  },
  {
   "cell_type": "code",
   "execution_count": 26,
   "metadata": {
    "collapsed": true
   },
   "outputs": [],
   "source": [
    "#Post-harvest: Crop Utilization (permanent tree and root crops)\n",
    "sect12_ph_w3 = pd.read_csv(\"C:\\\\Users\\\\ntawi\\\\Desktop\\\\sect12_ph_w3.csv\")\n",
    "sect12_ph_w3 = pd.DataFrame(sect12_ph_w3)\n",
    "#sect12_ph_w3.head()"
   ]
  },
  {
   "cell_type": "code",
   "execution_count": 27,
   "metadata": {
    "collapsed": true
   },
   "outputs": [],
   "source": [
    "#drop columns with all nan \n",
    "#sect12_ph_w3 = sect12_ph_w3.dropna(axis=1, how='all')\n",
    "#sect12_ph_w3.head()"
   ]
  },
  {
   "cell_type": "code",
   "execution_count": 28,
   "metadata": {
    "collapsed": true
   },
   "outputs": [],
   "source": [
    "#filling in missing data\n",
    "#sect12_ph_w3.fillna(0).head()"
   ]
  },
  {
   "cell_type": "code",
   "execution_count": 30,
   "metadata": {},
   "outputs": [],
   "source": [
    "#Merge all household characteristics csv sect1 & sect2 \n",
    "#Merged_clean= pd.merge(sect1_hh_w3, sect2_hh_w3, how = \"right\", on = ['household_id2', 'individual_id2'])\n",
    "#print(Merged_clean)"
   ]
  },
  {
   "cell_type": "code",
   "execution_count": 31,
   "metadata": {
    "collapsed": true
   },
   "outputs": [],
   "source": [
    "#Merge all household characteristics csv sect1, sect2 & sect4\n",
    "#Merged_clean2= pd.merge(pd.merge(sect1_hh_w3, sect2_hh_w3, how = \"right\", on = ['household_id2', 'individual_id2']),sect4_hh_w3)\n",
    "#print(Merged_clean2)"
   ]
  },
  {
   "cell_type": "code",
   "execution_count": 33,
   "metadata": {},
   "outputs": [],
   "source": [
    "#Create data set for ONLY selected variables\n",
    "#Merged_clean3 = pd.DataFrame(Merged_clean2, columns = ['hh_s1q03', 'hh_s1q04a', 'hh_s1q15', 'hh_s1q19', 'hh_s1q20', 'hh_s1q21', 'hh_s2q05', 'hh_s4q04'])\n",
    "#Merged_clean3.tail()"
   ]
  },
  {
   "cell_type": "code",
   "execution_count": null,
   "metadata": {
    "collapsed": true
   },
   "outputs": [],
   "source": [
    "#Descriptive stats for selected variables\n",
    "#Merged_clean3.describe()"
   ]
  }
 ],
 "metadata": {
  "kernelspec": {
   "display_name": "Python 3",
   "language": "python",
   "name": "python3"
  },
  "language_info": {
   "codemirror_mode": {
    "name": "ipython",
    "version": 3
   },
   "file_extension": ".py",
   "mimetype": "text/x-python",
   "name": "python",
   "nbconvert_exporter": "python",
   "pygments_lexer": "ipython3",
   "version": "3.6.1"
  }
 },
 "nbformat": 4,
 "nbformat_minor": 2
}
