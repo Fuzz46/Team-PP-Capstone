{
 "cells": [
  {
   "cell_type": "code",
   "execution_count": 1,
   "metadata": {
    "collapsed": true
   },
   "outputs": [],
   "source": [
    "import numpy as np\n",
    "import pandas as pd\n",
    "import matplotlib.pyplot as plt\n",
    "\n",
    "# Set maximum column width\n",
    "pd.set_option.max_colwidth = 100"
   ]
  },
  {
   "cell_type": "code",
   "execution_count": 2,
   "metadata": {
    "collapsed": true
   },
   "outputs": [],
   "source": [
    "# Read each csv file as a pandas dataframe\n",
    "sect1 = pd.read_csv('data/sect1_hh_w3.csv')\n",
    "sect5b = pd.read_csv('data/sect5b_hh_w3.csv')\n",
    "sect5c1 = pd.read_csv('data/sect5c1_hh_w3.csv')\n",
    "sect5c2 = pd.read_csv('data/sect5c2_hh_w3.csv')\n",
    "sect5d = pd.read_csv('data/sect5d_hh_w3.csv')\n",
    "sect6a = pd.read_csv('data/sect6a_hh_w3.csv')\n",
    "sect6b = pd.read_csv('data/sect6b_hh_w3.csv')\n",
    "sect10 = pd.read_csv('data/sect10_hh_w3.csv')\n",
    "sect12 = pd.read_csv('data/sect12_hh_w3.csv')"
   ]
  },
  {
   "cell_type": "code",
   "execution_count": 3,
   "metadata": {},
   "outputs": [
    {
     "name": "stderr",
     "output_type": "stream",
     "text": [
      "C:\\Users\\kautu\\Anaconda3\\lib\\site-packages\\IPython\\core\\interactiveshell.py:2698: DtypeWarning: Columns (22,25) have mixed types. Specify dtype option on import or set low_memory=False.\n",
      "  interactivity=interactivity, compiler=compiler, result=result)\n"
     ]
    }
   ],
   "source": [
    "# Import sect5a_hh_w3.csv as a pandas dataframe: sect5a\n",
    "sect5a = pd.read_csv('data/sect5a_hh_w3.csv')"
   ]
  },
  {
   "cell_type": "markdown",
   "metadata": {},
   "source": [
    "When I read this file it warns that two of the columns have mixed types. I think this is because it's setting the columns type to integer because it sees 'number', but the columns actually contain string values."
   ]
  },
  {
   "cell_type": "code",
   "execution_count": 4,
   "metadata": {},
   "outputs": [
    {
     "data": {
      "text/plain": [
       "Bottle meduim    5\n",
       "Number           2\n",
       "Madaberiya       1\n",
       "Sini             1\n",
       "Jenb             1\n",
       "Sino             1\n",
       "Abore            1\n",
       "Name: s5aq06b_others, dtype: int64"
      ]
     },
     "execution_count": 4,
     "metadata": {},
     "output_type": "execute_result"
    }
   ],
   "source": [
    "# This one has two 'number' values\n",
    "sect5a.s5aq06b_others.value_counts()"
   ]
  },
  {
   "cell_type": "code",
   "execution_count": 5,
   "metadata": {},
   "outputs": [
    {
     "data": {
      "text/plain": [
       "Number           33\n",
       "Jenb              9\n",
       "Madaberiya        3\n",
       "Zelela            2\n",
       "Tea Birchiko      1\n",
       "Sini              1\n",
       "Abore             1\n",
       "Bottle meduim     1\n",
       "shoreka           1\n",
       "Kil               1\n",
       "Name: s5aq05b_others, dtype: int64"
      ]
     },
     "execution_count": 5,
     "metadata": {},
     "output_type": "execute_result"
    }
   ],
   "source": [
    "sect5a.s5aq05b_others.value_counts()"
   ]
  },
  {
   "cell_type": "code",
   "execution_count": 6,
   "metadata": {
    "collapsed": true
   },
   "outputs": [],
   "source": [
    "# So this converts those columns to strings\n",
    "sect5a['s5aq05b_others'] = sect5a['s5aq05b_others'].astype(str)\n",
    "sect5a['s5aq06b_others'] = sect5a['s5aq06b_others'].astype(str)"
   ]
  },
  {
   "cell_type": "markdown",
   "metadata": {},
   "source": [
    "I was a little uncertain about how you want to combine the datasets, but in case it's helpful, I think this is a good reference: https://chrisalbon.com/python/pandas_join_merge_dataframe.html"
   ]
  },
  {
   "cell_type": "code",
   "execution_count": null,
   "metadata": {},
   "outputs": [],
   "source": [
    "# Merge household csvs\n",
    "\n",
    "df_merged = pd.merge([sect1, sect5a, sect5b, sect5c1, sect5c2, sect5d, sect6a, sect6b, sect10, sect12], )"
   ]
  }
 ],
 "metadata": {
  "kernelspec": {
   "display_name": "Python 3",
   "language": "python",
   "name": "python3"
  },
  "language_info": {
   "codemirror_mode": {
    "name": "ipython",
    "version": 3
   },
   "file_extension": ".py",
   "mimetype": "text/x-python",
   "name": "python",
   "nbconvert_exporter": "python",
   "pygments_lexer": "ipython3",
   "version": "3.6.3"
  }
 },
 "nbformat": 4,
 "nbformat_minor": 2
}
