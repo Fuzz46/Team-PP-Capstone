{
 "cells": [
  {
   "cell_type": "code",
   "execution_count": 25,
   "metadata": {
    "collapsed": true
   },
   "outputs": [],
   "source": [
    "import pandas as pd\n",
    "import luv2wrangle as l2w\n",
    "import os\n",
    "import matplotlib.pyplot as plt\n",
    "\n",
    "%matplotlib inline"
   ]
  },
  {
   "cell_type": "code",
   "execution_count": 57,
   "metadata": {
    "collapsed": true
   },
   "outputs": [],
   "source": [
    "df = pd.read_csv(\"Ethiopia_final_female_dataset.csv\")"
   ]
  },
  {
   "cell_type": "code",
   "execution_count": 58,
   "metadata": {},
   "outputs": [
    {
     "data": {
      "text/plain": [
       "(112575, 48)"
      ]
     },
     "execution_count": 58,
     "metadata": {},
     "output_type": "execute_result"
    }
   ],
   "source": [
    "df.shape"
   ]
  },
  {
   "cell_type": "code",
   "execution_count": 5,
   "metadata": {
    "scrolled": true
   },
   "outputs": [
    {
     "data": {
      "text/html": [
       "<div>\n",
       "<style>\n",
       "    .dataframe thead tr:only-child th {\n",
       "        text-align: right;\n",
       "    }\n",
       "\n",
       "    .dataframe thead th {\n",
       "        text-align: left;\n",
       "    }\n",
       "\n",
       "    .dataframe tbody tr th {\n",
       "        vertical-align: top;\n",
       "    }\n",
       "</style>\n",
       "<table border=\"1\" class=\"dataframe\">\n",
       "  <thead>\n",
       "    <tr style=\"text-align: right;\">\n",
       "      <th></th>\n",
       "      <th>household_id2</th>\n",
       "      <th>individual_id2</th>\n",
       "      <th>region_code</th>\n",
       "      <th>zone_code</th>\n",
       "      <th>Highest_Grade_Completed</th>\n",
       "      <th>hh_member_relationship</th>\n",
       "      <th>sex_of_hh_member</th>\n",
       "      <th>age_of_hh_member</th>\n",
       "      <th>marital_status</th>\n",
       "      <th>hours_per_week_agg</th>\n",
       "      <th>...</th>\n",
       "      <th>amt_days_men_hired</th>\n",
       "      <th>daily_wage_per_man</th>\n",
       "      <th>amt_days_women_hired</th>\n",
       "      <th>daily_wage_per_woman</th>\n",
       "      <th>amt_days_children_hired</th>\n",
       "      <th>daily_wage_per_child</th>\n",
       "      <th>Did_You_sell_harvest_crop</th>\n",
       "      <th>value_of_Crop_sales</th>\n",
       "      <th>household_size</th>\n",
       "      <th>worry_enough_food_to_eat_weekly</th>\n",
       "    </tr>\n",
       "  </thead>\n",
       "  <tbody>\n",
       "    <tr>\n",
       "      <th>0</th>\n",
       "      <td>10101088801601002</td>\n",
       "      <td>1.010109e+18</td>\n",
       "      <td>1</td>\n",
       "      <td>1</td>\n",
       "      <td>NaN</td>\n",
       "      <td>1</td>\n",
       "      <td>2</td>\n",
       "      <td>79</td>\n",
       "      <td>6.0</td>\n",
       "      <td>0.0</td>\n",
       "      <td>...</td>\n",
       "      <td>0.0</td>\n",
       "      <td>NaN</td>\n",
       "      <td>0.0</td>\n",
       "      <td>NaN</td>\n",
       "      <td>0.0</td>\n",
       "      <td>NaN</td>\n",
       "      <td>2</td>\n",
       "      <td>NaN</td>\n",
       "      <td>9</td>\n",
       "      <td>2</td>\n",
       "    </tr>\n",
       "    <tr>\n",
       "      <th>1</th>\n",
       "      <td>10101088801601002</td>\n",
       "      <td>1.010109e+18</td>\n",
       "      <td>1</td>\n",
       "      <td>1</td>\n",
       "      <td>NaN</td>\n",
       "      <td>1</td>\n",
       "      <td>2</td>\n",
       "      <td>79</td>\n",
       "      <td>6.0</td>\n",
       "      <td>0.0</td>\n",
       "      <td>...</td>\n",
       "      <td>4.0</td>\n",
       "      <td>80.0</td>\n",
       "      <td>2.0</td>\n",
       "      <td>80.0</td>\n",
       "      <td>0.0</td>\n",
       "      <td>NaN</td>\n",
       "      <td>1</td>\n",
       "      <td>550.0</td>\n",
       "      <td>9</td>\n",
       "      <td>2</td>\n",
       "    </tr>\n",
       "    <tr>\n",
       "      <th>2</th>\n",
       "      <td>10101088801601017</td>\n",
       "      <td>1.010109e+18</td>\n",
       "      <td>1</td>\n",
       "      <td>1</td>\n",
       "      <td>NaN</td>\n",
       "      <td>2</td>\n",
       "      <td>2</td>\n",
       "      <td>33</td>\n",
       "      <td>2.0</td>\n",
       "      <td>0.0</td>\n",
       "      <td>...</td>\n",
       "      <td>0.0</td>\n",
       "      <td>NaN</td>\n",
       "      <td>0.0</td>\n",
       "      <td>NaN</td>\n",
       "      <td>0.0</td>\n",
       "      <td>NaN</td>\n",
       "      <td>1</td>\n",
       "      <td>1850.0</td>\n",
       "      <td>9</td>\n",
       "      <td>2</td>\n",
       "    </tr>\n",
       "    <tr>\n",
       "      <th>3</th>\n",
       "      <td>10101088801601017</td>\n",
       "      <td>1.010109e+18</td>\n",
       "      <td>1</td>\n",
       "      <td>1</td>\n",
       "      <td>NaN</td>\n",
       "      <td>2</td>\n",
       "      <td>2</td>\n",
       "      <td>33</td>\n",
       "      <td>2.0</td>\n",
       "      <td>0.0</td>\n",
       "      <td>...</td>\n",
       "      <td>0.0</td>\n",
       "      <td>NaN</td>\n",
       "      <td>0.0</td>\n",
       "      <td>NaN</td>\n",
       "      <td>0.0</td>\n",
       "      <td>NaN</td>\n",
       "      <td>1</td>\n",
       "      <td>3850.0</td>\n",
       "      <td>9</td>\n",
       "      <td>2</td>\n",
       "    </tr>\n",
       "    <tr>\n",
       "      <th>4</th>\n",
       "      <td>10101088801601017</td>\n",
       "      <td>1.010109e+18</td>\n",
       "      <td>1</td>\n",
       "      <td>1</td>\n",
       "      <td>NaN</td>\n",
       "      <td>2</td>\n",
       "      <td>2</td>\n",
       "      <td>33</td>\n",
       "      <td>2.0</td>\n",
       "      <td>0.0</td>\n",
       "      <td>...</td>\n",
       "      <td>0.0</td>\n",
       "      <td>NaN</td>\n",
       "      <td>0.0</td>\n",
       "      <td>NaN</td>\n",
       "      <td>0.0</td>\n",
       "      <td>NaN</td>\n",
       "      <td>1</td>\n",
       "      <td>1850.0</td>\n",
       "      <td>9</td>\n",
       "      <td>2</td>\n",
       "    </tr>\n",
       "    <tr>\n",
       "      <th>5</th>\n",
       "      <td>10101088801601017</td>\n",
       "      <td>1.010109e+18</td>\n",
       "      <td>1</td>\n",
       "      <td>1</td>\n",
       "      <td>NaN</td>\n",
       "      <td>2</td>\n",
       "      <td>2</td>\n",
       "      <td>33</td>\n",
       "      <td>2.0</td>\n",
       "      <td>0.0</td>\n",
       "      <td>...</td>\n",
       "      <td>0.0</td>\n",
       "      <td>NaN</td>\n",
       "      <td>0.0</td>\n",
       "      <td>NaN</td>\n",
       "      <td>0.0</td>\n",
       "      <td>NaN</td>\n",
       "      <td>1</td>\n",
       "      <td>3850.0</td>\n",
       "      <td>9</td>\n",
       "      <td>2</td>\n",
       "    </tr>\n",
       "    <tr>\n",
       "      <th>6</th>\n",
       "      <td>10101088801601017</td>\n",
       "      <td>1.010109e+18</td>\n",
       "      <td>1</td>\n",
       "      <td>1</td>\n",
       "      <td>NaN</td>\n",
       "      <td>2</td>\n",
       "      <td>2</td>\n",
       "      <td>33</td>\n",
       "      <td>2.0</td>\n",
       "      <td>0.0</td>\n",
       "      <td>...</td>\n",
       "      <td>0.0</td>\n",
       "      <td>NaN</td>\n",
       "      <td>0.0</td>\n",
       "      <td>NaN</td>\n",
       "      <td>0.0</td>\n",
       "      <td>NaN</td>\n",
       "      <td>2</td>\n",
       "      <td>NaN</td>\n",
       "      <td>9</td>\n",
       "      <td>2</td>\n",
       "    </tr>\n",
       "    <tr>\n",
       "      <th>7</th>\n",
       "      <td>10101088801601017</td>\n",
       "      <td>1.010109e+18</td>\n",
       "      <td>1</td>\n",
       "      <td>1</td>\n",
       "      <td>NaN</td>\n",
       "      <td>2</td>\n",
       "      <td>2</td>\n",
       "      <td>33</td>\n",
       "      <td>2.0</td>\n",
       "      <td>0.0</td>\n",
       "      <td>...</td>\n",
       "      <td>0.0</td>\n",
       "      <td>NaN</td>\n",
       "      <td>0.0</td>\n",
       "      <td>NaN</td>\n",
       "      <td>0.0</td>\n",
       "      <td>NaN</td>\n",
       "      <td>1</td>\n",
       "      <td>3850.0</td>\n",
       "      <td>9</td>\n",
       "      <td>2</td>\n",
       "    </tr>\n",
       "    <tr>\n",
       "      <th>8</th>\n",
       "      <td>10101088801601017</td>\n",
       "      <td>1.010109e+18</td>\n",
       "      <td>1</td>\n",
       "      <td>1</td>\n",
       "      <td>NaN</td>\n",
       "      <td>2</td>\n",
       "      <td>2</td>\n",
       "      <td>33</td>\n",
       "      <td>2.0</td>\n",
       "      <td>0.0</td>\n",
       "      <td>...</td>\n",
       "      <td>0.0</td>\n",
       "      <td>NaN</td>\n",
       "      <td>0.0</td>\n",
       "      <td>NaN</td>\n",
       "      <td>0.0</td>\n",
       "      <td>NaN</td>\n",
       "      <td>2</td>\n",
       "      <td>NaN</td>\n",
       "      <td>9</td>\n",
       "      <td>2</td>\n",
       "    </tr>\n",
       "    <tr>\n",
       "      <th>9</th>\n",
       "      <td>10101088801601017</td>\n",
       "      <td>1.010109e+18</td>\n",
       "      <td>1</td>\n",
       "      <td>1</td>\n",
       "      <td>NaN</td>\n",
       "      <td>2</td>\n",
       "      <td>2</td>\n",
       "      <td>33</td>\n",
       "      <td>2.0</td>\n",
       "      <td>0.0</td>\n",
       "      <td>...</td>\n",
       "      <td>0.0</td>\n",
       "      <td>NaN</td>\n",
       "      <td>0.0</td>\n",
       "      <td>NaN</td>\n",
       "      <td>0.0</td>\n",
       "      <td>NaN</td>\n",
       "      <td>1</td>\n",
       "      <td>3850.0</td>\n",
       "      <td>9</td>\n",
       "      <td>2</td>\n",
       "    </tr>\n",
       "  </tbody>\n",
       "</table>\n",
       "<p>10 rows × 48 columns</p>\n",
       "</div>"
      ],
      "text/plain": [
       "       household_id2  individual_id2  region_code  zone_code  \\\n",
       "0  10101088801601002    1.010109e+18            1          1   \n",
       "1  10101088801601002    1.010109e+18            1          1   \n",
       "2  10101088801601017    1.010109e+18            1          1   \n",
       "3  10101088801601017    1.010109e+18            1          1   \n",
       "4  10101088801601017    1.010109e+18            1          1   \n",
       "5  10101088801601017    1.010109e+18            1          1   \n",
       "6  10101088801601017    1.010109e+18            1          1   \n",
       "7  10101088801601017    1.010109e+18            1          1   \n",
       "8  10101088801601017    1.010109e+18            1          1   \n",
       "9  10101088801601017    1.010109e+18            1          1   \n",
       "\n",
       "   Highest_Grade_Completed  hh_member_relationship  sex_of_hh_member  \\\n",
       "0                      NaN                       1                 2   \n",
       "1                      NaN                       1                 2   \n",
       "2                      NaN                       2                 2   \n",
       "3                      NaN                       2                 2   \n",
       "4                      NaN                       2                 2   \n",
       "5                      NaN                       2                 2   \n",
       "6                      NaN                       2                 2   \n",
       "7                      NaN                       2                 2   \n",
       "8                      NaN                       2                 2   \n",
       "9                      NaN                       2                 2   \n",
       "\n",
       "   age_of_hh_member  marital_status  hours_per_week_agg  \\\n",
       "0                79             6.0                 0.0   \n",
       "1                79             6.0                 0.0   \n",
       "2                33             2.0                 0.0   \n",
       "3                33             2.0                 0.0   \n",
       "4                33             2.0                 0.0   \n",
       "5                33             2.0                 0.0   \n",
       "6                33             2.0                 0.0   \n",
       "7                33             2.0                 0.0   \n",
       "8                33             2.0                 0.0   \n",
       "9                33             2.0                 0.0   \n",
       "\n",
       "                ...                amt_days_men_hired  daily_wage_per_man  \\\n",
       "0               ...                               0.0                 NaN   \n",
       "1               ...                               4.0                80.0   \n",
       "2               ...                               0.0                 NaN   \n",
       "3               ...                               0.0                 NaN   \n",
       "4               ...                               0.0                 NaN   \n",
       "5               ...                               0.0                 NaN   \n",
       "6               ...                               0.0                 NaN   \n",
       "7               ...                               0.0                 NaN   \n",
       "8               ...                               0.0                 NaN   \n",
       "9               ...                               0.0                 NaN   \n",
       "\n",
       "   amt_days_women_hired  daily_wage_per_woman  amt_days_children_hired  \\\n",
       "0                   0.0                   NaN                      0.0   \n",
       "1                   2.0                  80.0                      0.0   \n",
       "2                   0.0                   NaN                      0.0   \n",
       "3                   0.0                   NaN                      0.0   \n",
       "4                   0.0                   NaN                      0.0   \n",
       "5                   0.0                   NaN                      0.0   \n",
       "6                   0.0                   NaN                      0.0   \n",
       "7                   0.0                   NaN                      0.0   \n",
       "8                   0.0                   NaN                      0.0   \n",
       "9                   0.0                   NaN                      0.0   \n",
       "\n",
       "   daily_wage_per_child  Did_You_sell_harvest_crop  value_of_Crop_sales  \\\n",
       "0                   NaN                          2                  NaN   \n",
       "1                   NaN                          1                550.0   \n",
       "2                   NaN                          1               1850.0   \n",
       "3                   NaN                          1               3850.0   \n",
       "4                   NaN                          1               1850.0   \n",
       "5                   NaN                          1               3850.0   \n",
       "6                   NaN                          2                  NaN   \n",
       "7                   NaN                          1               3850.0   \n",
       "8                   NaN                          2                  NaN   \n",
       "9                   NaN                          1               3850.0   \n",
       "\n",
       "   household_size worry_enough_food_to_eat_weekly  \n",
       "0               9                               2  \n",
       "1               9                               2  \n",
       "2               9                               2  \n",
       "3               9                               2  \n",
       "4               9                               2  \n",
       "5               9                               2  \n",
       "6               9                               2  \n",
       "7               9                               2  \n",
       "8               9                               2  \n",
       "9               9                               2  \n",
       "\n",
       "[10 rows x 48 columns]"
      ]
     },
     "execution_count": 5,
     "metadata": {},
     "output_type": "execute_result"
    }
   ],
   "source": [
    "df.head(10)"
   ]
  },
  {
   "cell_type": "markdown",
   "metadata": {},
   "source": [
    "###### Check for Null Values"
   ]
  },
  {
   "cell_type": "code",
   "execution_count": 14,
   "metadata": {},
   "outputs": [
    {
     "data": {
      "text/plain": [
       "household_id2                           0\n",
       "individual_id2                          0\n",
       "region_code                             0\n",
       "zone_code                               0\n",
       "Highest_Grade_Completed             64924\n",
       "hh_member_relationship                  0\n",
       "sex_of_hh_member                        0\n",
       "age_of_hh_member                        0\n",
       "marital_status                      32117\n",
       "hours_per_week_agg                  21344\n",
       "hours_per_week_other_jobs           21344\n",
       "hours_per_week_collect_water        21344\n",
       "pw_w3                                   0\n",
       "bank_account                        59658\n",
       "field_id                                0\n",
       "Num_of_Hired_Men                    28093\n",
       "Num_of_Hired_Women                  28089\n",
       "Use_Fertilizer                      28424\n",
       "Use_Manure_Fertilizer               64319\n",
       "crop_name                               0\n",
       "crop_code                               0\n",
       "Type_of_Planting                        0\n",
       "Amount_of_field_planted             81147\n",
       "chemical_fertilizers_used               0\n",
       "reason_no_chemicals_used            79406\n",
       "extension_program                       0\n",
       "Credit_Services                         0\n",
       "advisory_Services                       0\n",
       "Crop_Rotation                           0\n",
       "who_in_charge_of_crops                  0\n",
       "who_decides_crops_2_sell                0\n",
       "who_takes_care_of_Crops                 0\n",
       "who_decides_on_use_of_income            0\n",
       "who_decides_on_use_of_crops             0\n",
       "who_buys_agg_supplies                   0\n",
       "did_you_harvest_crop_from_field         0\n",
       "amt_of_crop_harvest                  3888\n",
       "amt_of_crop_harvest_units            3888\n",
       "amt_days_men_hired                   4235\n",
       "daily_wage_per_man                  87464\n",
       "amt_days_women_hired                 4235\n",
       "daily_wage_per_woman               108929\n",
       "amt_days_children_hired              4235\n",
       "daily_wage_per_child               111991\n",
       "Did_You_sell_harvest_crop               0\n",
       "value_of_Crop_sales                 77916\n",
       "household_size                          0\n",
       "worry_enough_food_to_eat_weekly         0\n",
       "dtype: int64"
      ]
     },
     "execution_count": 14,
     "metadata": {},
     "output_type": "execute_result"
    }
   ],
   "source": [
    "df.isnull().sum()"
   ]
  },
  {
   "cell_type": "markdown",
   "metadata": {},
   "source": [
    "###### Dealing with Null Values\n",
    "\n",
    "1. We have a lot of null values in our dataset.\n",
    "2. We have 112,000 rows, so if it is over half I think we should just remove it.\n",
    "3. The only one over half I didn't remove is the value of crop sales because this might be important in assessing productivity. We can impute values for this but we'll have to note that. Let me know what you think."
   ]
  },
  {
   "cell_type": "code",
   "execution_count": 18,
   "metadata": {
    "collapsed": true
   },
   "outputs": [],
   "source": [
    "remove_cols = [\"bank_account\",\"Use_Manure_Fertilizer \",\"Amount_of_field_planted\",\"reason_no_chemicals_used \",\"daily_wage_per_man\",\"daily_wage_per_woman\",\"daily_wage_per_child \"]"
   ]
  },
  {
   "cell_type": "code",
   "execution_count": 20,
   "metadata": {
    "collapsed": true
   },
   "outputs": [],
   "source": [
    "newdf = df.drop(remove_cols, axis=1, errors = \"ignore\")"
   ]
  },
  {
   "cell_type": "code",
   "execution_count": 26,
   "metadata": {},
   "outputs": [
    {
     "data": {
      "text/plain": [
       "<matplotlib.axes._subplots.AxesSubplot at 0x1a484338d0>"
      ]
     },
     "execution_count": 26,
     "metadata": {},
     "output_type": "execute_result"
    },
    {
     "data": {
      "image/png": "[encoded data removed]",
      "text/plain": [
       "<matplotlib.figure.Figure at 0x1a78f881d0>"
      ]
     },
     "metadata": {},
     "output_type": "display_data"
    }
   ],
   "source": [
    "df[\"age_of_hh_member\"].hist()"
   ]
  },
  {
   "cell_type": "markdown",
   "metadata": {},
   "source": [
    "###### Our age variable is skewed towards younger individuals"
   ]
  },
  {
   "cell_type": "code",
   "execution_count": 29,
   "metadata": {},
   "outputs": [
    {
     "data": {
      "text/plain": [
       "<matplotlib.axes._subplots.AxesSubplot at 0x1a4b45fc50>"
      ]
     },
     "execution_count": 29,
     "metadata": {},
     "output_type": "execute_result"
    },
    {
     "data": {
      "image/png": "[encoded data removed]",
      "text/plain": [
       "<matplotlib.figure.Figure at 0x1a4b45f470>"
      ]
     },
     "metadata": {},
     "output_type": "display_data"
    }
   ],
   "source": [
    "df[\"amt_days_children_hired\"].hist()"
   ]
  },
  {
   "cell_type": "code",
   "execution_count": 31,
   "metadata": {},
   "outputs": [
    {
     "data": {
      "text/plain": [
       "<matplotlib.axes._subplots.AxesSubplot at 0x1a73891b00>"
      ]
     },
     "execution_count": 31,
     "metadata": {},
     "output_type": "execute_result"
    },
    {
     "data": {
      "image/png": "[encoded data removed]",
      "text/plain": [
       "<matplotlib.figure.Figure at 0x1a7a6650f0>"
      ]
     },
     "metadata": {},
     "output_type": "display_data"
    }
   ],
   "source": [
    "df['amt_days_men_hired'].hist()"
   ]
  },
  {
   "cell_type": "code",
   "execution_count": 34,
   "metadata": {},
   "outputs": [
    {
     "data": {
      "text/plain": [
       "<matplotlib.axes._subplots.AxesSubplot at 0x1a7d8ac908>"
      ]
     },
     "execution_count": 34,
     "metadata": {},
     "output_type": "execute_result"
    },
    {
     "data": {
      "image/png": "[encoded data removed]",
      "text/plain": [
       "<matplotlib.figure.Figure at 0x1a7d8ac278>"
      ]
     },
     "metadata": {},
     "output_type": "display_data"
    }
   ],
   "source": [
    "df[\"amt_days_women_hired\"].hist()"
   ]
  },
  {
   "cell_type": "markdown",
   "metadata": {},
   "source": [
    "###### Anyone can make sense of this? What are these variables saying? Are they saying these are the amount of days that a hire was made or the amount of individuals hired in a day?"
   ]
  },
  {
   "cell_type": "code",
   "execution_count": 37,
   "metadata": {},
   "outputs": [
    {
     "data": {
      "text/plain": [
       "<matplotlib.axes._subplots.AxesSubplot at 0x1a7b9cfe48>"
      ]
     },
     "execution_count": 37,
     "metadata": {},
     "output_type": "execute_result"
    },
    {
     "data": {
      "image/png": "[encoded data removed]",
      "text/plain": [
       "<matplotlib.figure.Figure at 0x1a7db1c7b8>"
      ]
     },
     "metadata": {},
     "output_type": "display_data"
    }
   ],
   "source": [
    "df[\"amt_of_crop_harvest\"].hist()"
   ]
  },
  {
   "cell_type": "code",
   "execution_count": 38,
   "metadata": {},
   "outputs": [
    {
     "data": {
      "text/plain": [
       "<matplotlib.axes._subplots.AxesSubplot at 0x1a7ae46390>"
      ]
     },
     "execution_count": 38,
     "metadata": {},
     "output_type": "execute_result"
    },
    {
     "data": {
      "image/png": "[encoded data removed]",
      "text/plain": [
       "<matplotlib.figure.Figure at 0x1a7f529470>"
      ]
     },
     "metadata": {},
     "output_type": "display_data"
    }
   ],
   "source": [
    "df[\"amt_of_crop_harvest_units\"].hist()"
   ]
  },
  {
   "cell_type": "markdown",
   "metadata": {},
   "source": [
    "###### These probably need to be scaled. \n",
    "\n",
    "There are values such as 0.5 and then others like 300."
   ]
  },
  {
   "cell_type": "code",
   "execution_count": 40,
   "metadata": {},
   "outputs": [
    {
     "data": {
      "text/plain": [
       "<matplotlib.axes._subplots.AxesSubplot at 0x1a7ae55668>"
      ]
     },
     "execution_count": 40,
     "metadata": {},
     "output_type": "execute_result"
    },
    {
     "data": {
      "image/png": "[encoded data removed]",
      "text/plain": [
       "<matplotlib.figure.Figure at 0x1a7f507f98>"
      ]
     },
     "metadata": {},
     "output_type": "display_data"
    }
   ],
   "source": [
    "df[\"household_size\"].hist()"
   ]
  },
  {
   "cell_type": "code",
   "execution_count": 44,
   "metadata": {},
   "outputs": [
    {
     "data": {
      "text/plain": [
       "1"
      ]
     },
     "execution_count": 44,
     "metadata": {},
     "output_type": "execute_result"
    }
   ],
   "source": [
    "df[\"sex_of_hh_member\"].nunique()"
   ]
  },
  {
   "cell_type": "code",
   "execution_count": 45,
   "metadata": {},
   "outputs": [
    {
     "data": {
      "text/plain": [
       "Index(['household_id2', 'individual_id2', 'region_code', 'zone_code',\n",
       "       'Highest_Grade_Completed', 'hh_member_relationship', 'sex_of_hh_member',\n",
       "       'age_of_hh_member', 'marital_status', 'hours_per_week_agg',\n",
       "       'hours_per_week_other_jobs', 'hours_per_week_collect_water', 'pw_w3',\n",
       "       'bank_account', 'field_id', 'Num_of_Hired_Men', 'Num_of_Hired_Women',\n",
       "       'Use_Fertilizer', 'Use_Manure_Fertilizer', 'crop_name', 'crop_code',\n",
       "       'Type_of_Planting', 'Amount_of_field_planted',\n",
       "       'chemical_fertilizers_used', 'reason_no_chemicals_used',\n",
       "       'extension_program', 'Credit_Services', 'advisory_Services',\n",
       "       'Crop_Rotation', 'who_in_charge_of_crops', 'who_decides_crops_2_sell',\n",
       "       'who_takes_care_of_Crops', 'who_decides_on_use_of_income',\n",
       "       'who_decides_on_use_of_crops', 'who_buys_agg_supplies',\n",
       "       'did_you_harvest_crop_from_field', 'amt_of_crop_harvest',\n",
       "       'amt_of_crop_harvest_units', 'amt_days_men_hired', 'daily_wage_per_man',\n",
       "       'amt_days_women_hired', 'daily_wage_per_woman',\n",
       "       'amt_days_children_hired', 'daily_wage_per_child',\n",
       "       'Did_You_sell_harvest_crop', 'value_of_Crop_sales', 'household_size',\n",
       "       'worry_enough_food_to_eat_weekly'],\n",
       "      dtype='object')"
      ]
     },
     "execution_count": 45,
     "metadata": {},
     "output_type": "execute_result"
    }
   ],
   "source": [
    "df.columns"
   ]
  },
  {
   "cell_type": "code",
   "execution_count": 49,
   "metadata": {},
   "outputs": [
    {
     "data": {
      "text/plain": [
       "count    91231.000000\n",
       "mean         9.038233\n",
       "std         14.228193\n",
       "min          0.000000\n",
       "25%          0.000000\n",
       "50%          0.000000\n",
       "75%         15.000000\n",
       "max         86.000000\n",
       "Name: hours_per_week_agg, dtype: float64"
      ]
     },
     "execution_count": 49,
     "metadata": {},
     "output_type": "execute_result"
    }
   ],
   "source": [
    "df[\"hours_per_week_agg\"].describe()"
   ]
  },
  {
   "cell_type": "code",
   "execution_count": 50,
   "metadata": {},
   "outputs": [
    {
     "data": {
      "text/plain": [
       "count    91231.000000\n",
       "mean         1.591192\n",
       "std          4.906424\n",
       "min          0.000000\n",
       "25%          0.000000\n",
       "50%          0.000000\n",
       "75%          0.000000\n",
       "max         84.000000\n",
       "Name: hours_per_week_collect_water, dtype: float64"
      ]
     },
     "execution_count": 50,
     "metadata": {},
     "output_type": "execute_result"
    }
   ],
   "source": [
    "df[\"hours_per_week_collect_water\"].describe()"
   ]
  },
  {
   "cell_type": "code",
   "execution_count": 51,
   "metadata": {},
   "outputs": [
    {
     "data": {
      "text/plain": [
       "count    91231.000000\n",
       "mean         0.292554\n",
       "std          2.772719\n",
       "min          0.000000\n",
       "25%          0.000000\n",
       "50%          0.000000\n",
       "75%          0.000000\n",
       "max         56.000000\n",
       "Name: hours_per_week_other_jobs, dtype: float64"
      ]
     },
     "execution_count": 51,
     "metadata": {},
     "output_type": "execute_result"
    }
   ],
   "source": [
    "df[\"hours_per_week_other_jobs\"].describe()"
   ]
  },
  {
   "cell_type": "code",
   "execution_count": null,
   "metadata": {
    "collapsed": true
   },
   "outputs": [],
   "source": []
  },
  {
   "cell_type": "markdown",
   "metadata": {},
   "source": [
    "###### Our data contains numerical data that is really categorical.\n",
    "\n",
    "1. We will have to convert the necessary columns\n",
    "2. Need to one-hot encode\n",
    "3. Considering two approaches:\n",
    "\n",
    "     3a. We can predict the number of days worked for females as a continuous value\n",
    "\n",
    "    3b. We can predict discrete values (which would need to be considered as categorical, maybe)\n",
    "    "
   ]
  },
  {
   "cell_type": "code",
   "execution_count": 23,
   "metadata": {
    "scrolled": true
   },
   "outputs": [
    {
     "name": "stdout",
     "output_type": "stream",
     "text": [
      "<class 'pandas.core.frame.DataFrame'>\n",
      "RangeIndex: 112575 entries, 0 to 112574\n",
      "Data columns (total 48 columns):\n",
      "household_id2                      112575 non-null int64\n",
      "individual_id2                     112575 non-null float64\n",
      "region_code                        112575 non-null int64\n",
      "zone_code                          112575 non-null int64\n",
      "Highest_Grade_Completed            47651 non-null float64\n",
      "hh_member_relationship             112575 non-null int64\n",
      "sex_of_hh_member                   112575 non-null int64\n",
      "age_of_hh_member                   112575 non-null int64\n",
      "marital_status                     80458 non-null float64\n",
      "hours_per_week_agg                 91231 non-null float64\n",
      "hours_per_week_other_jobs          91231 non-null float64\n",
      "hours_per_week_collect_water       91231 non-null float64\n",
      "pw_w3                              112575 non-null float64\n",
      "bank_account                       52917 non-null float64\n",
      "field_id                           112575 non-null int64\n",
      "Num_of_Hired_Men                   84482 non-null float64\n",
      "Num_of_Hired_Women                 84486 non-null float64\n",
      "Use_Fertilizer                     84151 non-null float64\n",
      "Use_Manure_Fertilizer              48256 non-null float64\n",
      "crop_name                          112575 non-null object\n",
      "crop_code                          112575 non-null int64\n",
      "Type_of_Planting                   112575 non-null int64\n",
      "Amount_of_field_planted            31428 non-null float64\n",
      "chemical_fertilizers_used          112575 non-null int64\n",
      "reason_no_chemicals_used           33169 non-null float64\n",
      "extension_program                  112575 non-null int64\n",
      "Credit_Services                    112575 non-null int64\n",
      "advisory_Services                  112575 non-null int64\n",
      "Crop_Rotation                      112575 non-null int64\n",
      "who_in_charge_of_crops             112575 non-null int64\n",
      "who_decides_crops_2_sell           112575 non-null int64\n",
      "who_takes_care_of_Crops            112575 non-null int64\n",
      "who_decides_on_use_of_income       112575 non-null int64\n",
      "who_decides_on_use_of_crops        112575 non-null int64\n",
      "who_buys_agg_supplies              112575 non-null int64\n",
      "did_you_harvest_crop_from_field    112575 non-null int64\n",
      "amt_of_crop_harvest                108687 non-null float64\n",
      "amt_of_crop_harvest_units          108687 non-null float64\n",
      "amt_days_men_hired                 108340 non-null float64\n",
      "daily_wage_per_man                 25111 non-null float64\n",
      "amt_days_women_hired               108340 non-null float64\n",
      "daily_wage_per_woman               3646 non-null float64\n",
      "amt_days_children_hired            108340 non-null float64\n",
      "daily_wage_per_child               584 non-null float64\n",
      "Did_You_sell_harvest_crop          112575 non-null int64\n",
      "value_of_Crop_sales                34659 non-null float64\n",
      "household_size                     112575 non-null int64\n",
      "worry_enough_food_to_eat_weekly    112575 non-null int64\n",
      "dtypes: float64(23), int64(24), object(1)\n",
      "memory usage: 41.2+ MB\n"
     ]
    }
   ],
   "source": [
    "df.info()"
   ]
  },
  {
   "cell_type": "code",
   "execution_count": 54,
   "metadata": {
    "collapsed": true
   },
   "outputs": [],
   "source": [
    "remove_cols = [\"bank_account\",\"Use_Manure_Fertilizer \",\"Amount_of_field_planted\",\"reason_no_chemicals_used \",\"daily_wage_per_man\",\"daily_wage_per_woman\",\"daily_wage_per_child \", \"amt_days_men_hired\", \"amt_days_women_hired\", \"amt_days_children_hired\", \"sex_of_hh_member\"]\n",
    "newdf = df.drop(remove_cols, axis=1, errors = \"ignore\")"
   ]
  },
  {
   "cell_type": "code",
   "execution_count": 56,
   "metadata": {
    "scrolled": true
   },
   "outputs": [
    {
     "name": "stdout",
     "output_type": "stream",
     "text": [
      "<class 'pandas.core.frame.DataFrame'>\n",
      "RangeIndex: 112575 entries, 0 to 112574\n",
      "Data columns (total 40 columns):\n",
      "household_id2                      112575 non-null int64\n",
      "individual_id2                     112575 non-null float64\n",
      "region_code                        112575 non-null int64\n",
      "zone_code                          112575 non-null int64\n",
      "Highest_Grade_Completed            47651 non-null float64\n",
      "hh_member_relationship             112575 non-null int64\n",
      "age_of_hh_member                   112575 non-null int64\n",
      "marital_status                     80458 non-null float64\n",
      "hours_per_week_agg                 91231 non-null float64\n",
      "hours_per_week_other_jobs          91231 non-null float64\n",
      "hours_per_week_collect_water       91231 non-null float64\n",
      "pw_w3                              112575 non-null float64\n",
      "field_id                           112575 non-null int64\n",
      "Num_of_Hired_Men                   84482 non-null float64\n",
      "Num_of_Hired_Women                 84486 non-null float64\n",
      "Use_Fertilizer                     84151 non-null float64\n",
      "Use_Manure_Fertilizer              48256 non-null float64\n",
      "crop_name                          112575 non-null object\n",
      "crop_code                          112575 non-null int64\n",
      "Type_of_Planting                   112575 non-null int64\n",
      "chemical_fertilizers_used          112575 non-null int64\n",
      "reason_no_chemicals_used           33169 non-null float64\n",
      "extension_program                  112575 non-null int64\n",
      "Credit_Services                    112575 non-null int64\n",
      "advisory_Services                  112575 non-null int64\n",
      "Crop_Rotation                      112575 non-null int64\n",
      "who_in_charge_of_crops             112575 non-null int64\n",
      "who_decides_crops_2_sell           112575 non-null int64\n",
      "who_takes_care_of_Crops            112575 non-null int64\n",
      "who_decides_on_use_of_income       112575 non-null int64\n",
      "who_decides_on_use_of_crops        112575 non-null int64\n",
      "who_buys_agg_supplies              112575 non-null int64\n",
      "did_you_harvest_crop_from_field    112575 non-null int64\n",
      "amt_of_crop_harvest                108687 non-null float64\n",
      "amt_of_crop_harvest_units          108687 non-null float64\n",
      "daily_wage_per_child               584 non-null float64\n",
      "Did_You_sell_harvest_crop          112575 non-null int64\n",
      "value_of_Crop_sales                34659 non-null float64\n",
      "household_size                     112575 non-null int64\n",
      "worry_enough_food_to_eat_weekly    112575 non-null int64\n",
      "dtypes: float64(16), int64(23), object(1)\n",
      "memory usage: 34.4+ MB\n"
     ]
    }
   ],
   "source": [
    "newdf.info()"
   ]
  },
  {
   "cell_type": "code",
   "execution_count": null,
   "metadata": {
    "collapsed": true
   },
   "outputs": [],
   "source": []
  }
 ],
 "metadata": {
  "kernelspec": {
   "display_name": "Python 3",
   "language": "python",
   "name": "python3"
  },
  "language_info": {
   "codemirror_mode": {
    "name": "ipython",
    "version": 3
   },
   "file_extension": ".py",
   "mimetype": "text/x-python",
   "name": "python",
   "nbconvert_exporter": "python",
   "pygments_lexer": "ipython3",
   "version": "3.6.3"
  }
 },
 "nbformat": 4,
 "nbformat_minor": 2
}
