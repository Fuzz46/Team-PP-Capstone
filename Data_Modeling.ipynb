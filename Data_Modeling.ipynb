{
 "cells": [
  {
   "cell_type": "code",
   "execution_count": 1,
   "metadata": {
    "collapsed": true
   },
   "outputs": [],
   "source": [
    "import pandas as pd\n",
    "import numpy as np \n",
    "import pickle\n",
    "import os\n",
    "import luv2wrangle as l2w\n",
    "\n",
    "import seaborn as sns\n",
    "import yellowbrick as yb\n",
    "import matplotlib.pyplot as plt\n",
    "%matplotlib inline"
   ]
  },
  {
   "cell_type": "code",
   "execution_count": 2,
   "metadata": {
    "collapsed": true
   },
   "outputs": [],
   "source": [
    "df = pickle.load(open(\"wrangled_df.pkl\", \"rb\"))"
   ]
  },
  {
   "cell_type": "code",
   "execution_count": 3,
   "metadata": {},
   "outputs": [
    {
     "data": {
      "text/plain": [
       "(91231, 112)"
      ]
     },
     "execution_count": 3,
     "metadata": {},
     "output_type": "execute_result"
    }
   ],
   "source": [
    "df.shape"
   ]
  },
  {
   "cell_type": "code",
   "execution_count": 4,
   "metadata": {},
   "outputs": [
    {
     "data": {
      "text/html": [
       "<div>\n",
       "<style>\n",
       "    .dataframe thead tr:only-child th {\n",
       "        text-align: right;\n",
       "    }\n",
       "\n",
       "    .dataframe thead th {\n",
       "        text-align: left;\n",
       "    }\n",
       "\n",
       "    .dataframe tbody tr th {\n",
       "        vertical-align: top;\n",
       "    }\n",
       "</style>\n",
       "<table border=\"1\" class=\"dataframe\">\n",
       "  <thead>\n",
       "    <tr style=\"text-align: right;\">\n",
       "      <th></th>\n",
       "      <th>household_id2</th>\n",
       "      <th>individual_id2</th>\n",
       "      <th>zone_code</th>\n",
       "      <th>hh_member_relationship</th>\n",
       "      <th>sex_of_hh_member</th>\n",
       "      <th>marital_status</th>\n",
       "      <th>hours_per_week_agg</th>\n",
       "      <th>hours_per_week_other_jobs</th>\n",
       "      <th>hours_per_week_collect_water</th>\n",
       "      <th>pw_w3</th>\n",
       "      <th>...</th>\n",
       "      <th>crop_name_cat</th>\n",
       "      <th>highest_grade_cat</th>\n",
       "      <th>hh_size_cat</th>\n",
       "      <th>ages_cat</th>\n",
       "      <th>hh_mem_rel_cat</th>\n",
       "      <th>who_decides_use_crops_cat</th>\n",
       "      <th>adv_services_cat</th>\n",
       "      <th>ext_program_cat</th>\n",
       "      <th>marital_stat_cat</th>\n",
       "      <th>region_cat</th>\n",
       "    </tr>\n",
       "  </thead>\n",
       "  <tbody>\n",
       "    <tr>\n",
       "      <th>0</th>\n",
       "      <td>1.010109e+16</td>\n",
       "      <td>1.010109e+18</td>\n",
       "      <td>1.0</td>\n",
       "      <td>1.0</td>\n",
       "      <td>2.0</td>\n",
       "      <td>6.0</td>\n",
       "      <td>0.0</td>\n",
       "      <td>0.0</td>\n",
       "      <td>0.0</td>\n",
       "      <td>2897.155029</td>\n",
       "      <td>...</td>\n",
       "      <td>MAIZE</td>\n",
       "      <td>0-5th Grade</td>\n",
       "      <td>More than 6_HH_Members</td>\n",
       "      <td>Over 21</td>\n",
       "      <td>head</td>\n",
       "      <td>adult_females</td>\n",
       "      <td>no</td>\n",
       "      <td>yes</td>\n",
       "      <td>never_married</td>\n",
       "      <td>north</td>\n",
       "    </tr>\n",
       "    <tr>\n",
       "      <th>1</th>\n",
       "      <td>1.010109e+16</td>\n",
       "      <td>1.010109e+18</td>\n",
       "      <td>1.0</td>\n",
       "      <td>1.0</td>\n",
       "      <td>2.0</td>\n",
       "      <td>6.0</td>\n",
       "      <td>0.0</td>\n",
       "      <td>0.0</td>\n",
       "      <td>0.0</td>\n",
       "      <td>2897.155029</td>\n",
       "      <td>...</td>\n",
       "      <td>SORGHUM</td>\n",
       "      <td>0-5th Grade</td>\n",
       "      <td>More than 6_HH_Members</td>\n",
       "      <td>Over 21</td>\n",
       "      <td>head</td>\n",
       "      <td>adult_females</td>\n",
       "      <td>no</td>\n",
       "      <td>yes</td>\n",
       "      <td>never_married</td>\n",
       "      <td>north</td>\n",
       "    </tr>\n",
       "    <tr>\n",
       "      <th>2</th>\n",
       "      <td>1.010109e+16</td>\n",
       "      <td>1.010109e+18</td>\n",
       "      <td>1.0</td>\n",
       "      <td>2.0</td>\n",
       "      <td>2.0</td>\n",
       "      <td>2.0</td>\n",
       "      <td>0.0</td>\n",
       "      <td>0.0</td>\n",
       "      <td>0.0</td>\n",
       "      <td>2897.155029</td>\n",
       "      <td>...</td>\n",
       "      <td>SESAME</td>\n",
       "      <td>0-5th Grade</td>\n",
       "      <td>More than 6_HH_Members</td>\n",
       "      <td>Over 21</td>\n",
       "      <td>spouse</td>\n",
       "      <td>adult_females</td>\n",
       "      <td>yes</td>\n",
       "      <td>yes</td>\n",
       "      <td>married_mono</td>\n",
       "      <td>north</td>\n",
       "    </tr>\n",
       "    <tr>\n",
       "      <th>3</th>\n",
       "      <td>1.010109e+16</td>\n",
       "      <td>1.010109e+18</td>\n",
       "      <td>1.0</td>\n",
       "      <td>2.0</td>\n",
       "      <td>2.0</td>\n",
       "      <td>2.0</td>\n",
       "      <td>0.0</td>\n",
       "      <td>0.0</td>\n",
       "      <td>0.0</td>\n",
       "      <td>2897.155029</td>\n",
       "      <td>...</td>\n",
       "      <td>SORGHUM</td>\n",
       "      <td>0-5th Grade</td>\n",
       "      <td>More than 6_HH_Members</td>\n",
       "      <td>Over 21</td>\n",
       "      <td>spouse</td>\n",
       "      <td>adult_females</td>\n",
       "      <td>yes</td>\n",
       "      <td>yes</td>\n",
       "      <td>married_mono</td>\n",
       "      <td>north</td>\n",
       "    </tr>\n",
       "    <tr>\n",
       "      <th>4</th>\n",
       "      <td>1.010109e+16</td>\n",
       "      <td>1.010109e+18</td>\n",
       "      <td>1.0</td>\n",
       "      <td>2.0</td>\n",
       "      <td>2.0</td>\n",
       "      <td>2.0</td>\n",
       "      <td>0.0</td>\n",
       "      <td>0.0</td>\n",
       "      <td>0.0</td>\n",
       "      <td>2897.155029</td>\n",
       "      <td>...</td>\n",
       "      <td>SESAME</td>\n",
       "      <td>0-5th Grade</td>\n",
       "      <td>More than 6_HH_Members</td>\n",
       "      <td>Over 21</td>\n",
       "      <td>spouse</td>\n",
       "      <td>adult_females</td>\n",
       "      <td>yes</td>\n",
       "      <td>yes</td>\n",
       "      <td>married_mono</td>\n",
       "      <td>north</td>\n",
       "    </tr>\n",
       "    <tr>\n",
       "      <th>5</th>\n",
       "      <td>1.010109e+16</td>\n",
       "      <td>1.010109e+18</td>\n",
       "      <td>1.0</td>\n",
       "      <td>2.0</td>\n",
       "      <td>2.0</td>\n",
       "      <td>2.0</td>\n",
       "      <td>0.0</td>\n",
       "      <td>0.0</td>\n",
       "      <td>0.0</td>\n",
       "      <td>2897.155029</td>\n",
       "      <td>...</td>\n",
       "      <td>SORGHUM</td>\n",
       "      <td>0-5th Grade</td>\n",
       "      <td>More than 6_HH_Members</td>\n",
       "      <td>Over 21</td>\n",
       "      <td>spouse</td>\n",
       "      <td>adult_females</td>\n",
       "      <td>yes</td>\n",
       "      <td>yes</td>\n",
       "      <td>married_mono</td>\n",
       "      <td>north</td>\n",
       "    </tr>\n",
       "    <tr>\n",
       "      <th>6</th>\n",
       "      <td>1.010109e+16</td>\n",
       "      <td>1.010109e+18</td>\n",
       "      <td>1.0</td>\n",
       "      <td>2.0</td>\n",
       "      <td>2.0</td>\n",
       "      <td>2.0</td>\n",
       "      <td>0.0</td>\n",
       "      <td>0.0</td>\n",
       "      <td>0.0</td>\n",
       "      <td>2897.155029</td>\n",
       "      <td>...</td>\n",
       "      <td>MAIZE</td>\n",
       "      <td>0-5th Grade</td>\n",
       "      <td>More than 6_HH_Members</td>\n",
       "      <td>Over 21</td>\n",
       "      <td>spouse</td>\n",
       "      <td>adult_females</td>\n",
       "      <td>yes</td>\n",
       "      <td>yes</td>\n",
       "      <td>married_mono</td>\n",
       "      <td>north</td>\n",
       "    </tr>\n",
       "    <tr>\n",
       "      <th>7</th>\n",
       "      <td>1.010109e+16</td>\n",
       "      <td>1.010109e+18</td>\n",
       "      <td>1.0</td>\n",
       "      <td>2.0</td>\n",
       "      <td>2.0</td>\n",
       "      <td>2.0</td>\n",
       "      <td>0.0</td>\n",
       "      <td>0.0</td>\n",
       "      <td>0.0</td>\n",
       "      <td>2897.155029</td>\n",
       "      <td>...</td>\n",
       "      <td>SORGHUM</td>\n",
       "      <td>0-5th Grade</td>\n",
       "      <td>More than 6_HH_Members</td>\n",
       "      <td>Over 21</td>\n",
       "      <td>spouse</td>\n",
       "      <td>adult_females</td>\n",
       "      <td>yes</td>\n",
       "      <td>yes</td>\n",
       "      <td>married_mono</td>\n",
       "      <td>north</td>\n",
       "    </tr>\n",
       "    <tr>\n",
       "      <th>8</th>\n",
       "      <td>1.010109e+16</td>\n",
       "      <td>1.010109e+18</td>\n",
       "      <td>1.0</td>\n",
       "      <td>2.0</td>\n",
       "      <td>2.0</td>\n",
       "      <td>2.0</td>\n",
       "      <td>0.0</td>\n",
       "      <td>0.0</td>\n",
       "      <td>0.0</td>\n",
       "      <td>2897.155029</td>\n",
       "      <td>...</td>\n",
       "      <td>MAIZE</td>\n",
       "      <td>0-5th Grade</td>\n",
       "      <td>More than 6_HH_Members</td>\n",
       "      <td>Over 21</td>\n",
       "      <td>spouse</td>\n",
       "      <td>adult_females</td>\n",
       "      <td>yes</td>\n",
       "      <td>yes</td>\n",
       "      <td>married_mono</td>\n",
       "      <td>north</td>\n",
       "    </tr>\n",
       "    <tr>\n",
       "      <th>9</th>\n",
       "      <td>1.010109e+16</td>\n",
       "      <td>1.010109e+18</td>\n",
       "      <td>1.0</td>\n",
       "      <td>2.0</td>\n",
       "      <td>2.0</td>\n",
       "      <td>2.0</td>\n",
       "      <td>0.0</td>\n",
       "      <td>0.0</td>\n",
       "      <td>0.0</td>\n",
       "      <td>2897.155029</td>\n",
       "      <td>...</td>\n",
       "      <td>SORGHUM</td>\n",
       "      <td>0-5th Grade</td>\n",
       "      <td>More than 6_HH_Members</td>\n",
       "      <td>Over 21</td>\n",
       "      <td>spouse</td>\n",
       "      <td>adult_females</td>\n",
       "      <td>yes</td>\n",
       "      <td>yes</td>\n",
       "      <td>married_mono</td>\n",
       "      <td>north</td>\n",
       "    </tr>\n",
       "  </tbody>\n",
       "</table>\n",
       "<p>10 rows × 112 columns</p>\n",
       "</div>"
      ],
      "text/plain": [
       "   household_id2  individual_id2  zone_code  hh_member_relationship  \\\n",
       "0   1.010109e+16    1.010109e+18        1.0                     1.0   \n",
       "1   1.010109e+16    1.010109e+18        1.0                     1.0   \n",
       "2   1.010109e+16    1.010109e+18        1.0                     2.0   \n",
       "3   1.010109e+16    1.010109e+18        1.0                     2.0   \n",
       "4   1.010109e+16    1.010109e+18        1.0                     2.0   \n",
       "5   1.010109e+16    1.010109e+18        1.0                     2.0   \n",
       "6   1.010109e+16    1.010109e+18        1.0                     2.0   \n",
       "7   1.010109e+16    1.010109e+18        1.0                     2.0   \n",
       "8   1.010109e+16    1.010109e+18        1.0                     2.0   \n",
       "9   1.010109e+16    1.010109e+18        1.0                     2.0   \n",
       "\n",
       "   sex_of_hh_member  marital_status  hours_per_week_agg  \\\n",
       "0               2.0             6.0                 0.0   \n",
       "1               2.0             6.0                 0.0   \n",
       "2               2.0             2.0                 0.0   \n",
       "3               2.0             2.0                 0.0   \n",
       "4               2.0             2.0                 0.0   \n",
       "5               2.0             2.0                 0.0   \n",
       "6               2.0             2.0                 0.0   \n",
       "7               2.0             2.0                 0.0   \n",
       "8               2.0             2.0                 0.0   \n",
       "9               2.0             2.0                 0.0   \n",
       "\n",
       "   hours_per_week_other_jobs  hours_per_week_collect_water        pw_w3  \\\n",
       "0                        0.0                           0.0  2897.155029   \n",
       "1                        0.0                           0.0  2897.155029   \n",
       "2                        0.0                           0.0  2897.155029   \n",
       "3                        0.0                           0.0  2897.155029   \n",
       "4                        0.0                           0.0  2897.155029   \n",
       "5                        0.0                           0.0  2897.155029   \n",
       "6                        0.0                           0.0  2897.155029   \n",
       "7                        0.0                           0.0  2897.155029   \n",
       "8                        0.0                           0.0  2897.155029   \n",
       "9                        0.0                           0.0  2897.155029   \n",
       "\n",
       "      ...      crop_name_cat  highest_grade_cat             hh_size_cat  \\\n",
       "0     ...              MAIZE        0-5th Grade  More than 6_HH_Members   \n",
       "1     ...            SORGHUM        0-5th Grade  More than 6_HH_Members   \n",
       "2     ...             SESAME        0-5th Grade  More than 6_HH_Members   \n",
       "3     ...            SORGHUM        0-5th Grade  More than 6_HH_Members   \n",
       "4     ...             SESAME        0-5th Grade  More than 6_HH_Members   \n",
       "5     ...            SORGHUM        0-5th Grade  More than 6_HH_Members   \n",
       "6     ...              MAIZE        0-5th Grade  More than 6_HH_Members   \n",
       "7     ...            SORGHUM        0-5th Grade  More than 6_HH_Members   \n",
       "8     ...              MAIZE        0-5th Grade  More than 6_HH_Members   \n",
       "9     ...            SORGHUM        0-5th Grade  More than 6_HH_Members   \n",
       "\n",
       "   ages_cat  hh_mem_rel_cat  who_decides_use_crops_cat  adv_services_cat  \\\n",
       "0   Over 21            head              adult_females                no   \n",
       "1   Over 21            head              adult_females                no   \n",
       "2   Over 21          spouse              adult_females               yes   \n",
       "3   Over 21          spouse              adult_females               yes   \n",
       "4   Over 21          spouse              adult_females               yes   \n",
       "5   Over 21          spouse              adult_females               yes   \n",
       "6   Over 21          spouse              adult_females               yes   \n",
       "7   Over 21          spouse              adult_females               yes   \n",
       "8   Over 21          spouse              adult_females               yes   \n",
       "9   Over 21          spouse              adult_females               yes   \n",
       "\n",
       "   ext_program_cat  marital_stat_cat  region_cat  \n",
       "0              yes     never_married       north  \n",
       "1              yes     never_married       north  \n",
       "2              yes      married_mono       north  \n",
       "3              yes      married_mono       north  \n",
       "4              yes      married_mono       north  \n",
       "5              yes      married_mono       north  \n",
       "6              yes      married_mono       north  \n",
       "7              yes      married_mono       north  \n",
       "8              yes      married_mono       north  \n",
       "9              yes      married_mono       north  \n",
       "\n",
       "[10 rows x 112 columns]"
      ]
     },
     "execution_count": 4,
     "metadata": {},
     "output_type": "execute_result"
    }
   ],
   "source": [
    "df.head(10)"
   ]
  },
  {
   "cell_type": "code",
   "execution_count": 5,
   "metadata": {},
   "outputs": [
    {
     "name": "stdout",
     "output_type": "stream",
     "text": [
      "<class 'pandas.core.frame.DataFrame'>\n",
      "Int64Index: 91231 entries, 0 to 112574\n",
      "Columns: 112 entries, household_id2 to region_cat\n",
      "dtypes: category(5), float64(101), object(6)\n",
      "memory usage: 75.6+ MB\n"
     ]
    }
   ],
   "source": [
    "df.info()"
   ]
  },
  {
   "cell_type": "markdown",
   "metadata": {},
   "source": [
    "###### Relevant for Hours"
   ]
  },
  {
   "cell_type": "code",
   "execution_count": 6,
   "metadata": {
    "collapsed": true
   },
   "outputs": [],
   "source": [
    "cols=[\"crop_name_cat\", \"total_hours_cat\", \"highest_grade_cat\",\n",
    "      \"hh_mem_rel_cat\", \"adv_services_cat\",\n",
    "      \"ext_program_cat\", \"who_decides_use_crops_cat\", \"marital_stat_cat\", \n",
    "      \"ages_cat\", \"hh_size_cat\", \"region_cat\", \"sex_of_hh_member\"\n",
    "     ]     "
   ]
  },
  {
   "cell_type": "code",
   "execution_count": 7,
   "metadata": {
    "collapsed": true
   },
   "outputs": [],
   "source": [
    "newdf = df[cols]"
   ]
  },
  {
   "cell_type": "code",
   "execution_count": 8,
   "metadata": {},
   "outputs": [
    {
     "data": {
      "text/plain": [
       "Index(['crop_name_cat', 'total_hours_cat', 'highest_grade_cat',\n",
       "       'hh_mem_rel_cat', 'adv_services_cat', 'ext_program_cat',\n",
       "       'who_decides_use_crops_cat', 'marital_stat_cat', 'ages_cat',\n",
       "       'hh_size_cat', 'region_cat', 'sex_of_hh_member'],\n",
       "      dtype='object')"
      ]
     },
     "execution_count": 8,
     "metadata": {},
     "output_type": "execute_result"
    }
   ],
   "source": [
    "newdf.columns"
   ]
  },
  {
   "cell_type": "code",
   "execution_count": 9,
   "metadata": {},
   "outputs": [
    {
     "data": {
      "text/html": [
       "<div>\n",
       "<style>\n",
       "    .dataframe thead tr:only-child th {\n",
       "        text-align: right;\n",
       "    }\n",
       "\n",
       "    .dataframe thead th {\n",
       "        text-align: left;\n",
       "    }\n",
       "\n",
       "    .dataframe tbody tr th {\n",
       "        vertical-align: top;\n",
       "    }\n",
       "</style>\n",
       "<table border=\"1\" class=\"dataframe\">\n",
       "  <thead>\n",
       "    <tr style=\"text-align: right;\">\n",
       "      <th></th>\n",
       "      <th>crop_name_cat</th>\n",
       "      <th>total_hours_cat</th>\n",
       "      <th>highest_grade_cat</th>\n",
       "      <th>hh_mem_rel_cat</th>\n",
       "      <th>adv_services_cat</th>\n",
       "      <th>ext_program_cat</th>\n",
       "      <th>who_decides_use_crops_cat</th>\n",
       "      <th>marital_stat_cat</th>\n",
       "      <th>ages_cat</th>\n",
       "      <th>hh_size_cat</th>\n",
       "      <th>region_cat</th>\n",
       "      <th>sex_of_hh_member</th>\n",
       "    </tr>\n",
       "  </thead>\n",
       "  <tbody>\n",
       "    <tr>\n",
       "      <th>count</th>\n",
       "      <td>91231</td>\n",
       "      <td>91231</td>\n",
       "      <td>91231</td>\n",
       "      <td>91231</td>\n",
       "      <td>91231</td>\n",
       "      <td>91231</td>\n",
       "      <td>91231</td>\n",
       "      <td>91231</td>\n",
       "      <td>91231</td>\n",
       "      <td>91231</td>\n",
       "      <td>91231</td>\n",
       "      <td>91231</td>\n",
       "    </tr>\n",
       "    <tr>\n",
       "      <th>unique</th>\n",
       "      <td>1</td>\n",
       "      <td>1</td>\n",
       "      <td>2</td>\n",
       "      <td>2</td>\n",
       "      <td>2</td>\n",
       "      <td>2</td>\n",
       "      <td>2</td>\n",
       "      <td>2</td>\n",
       "      <td>1</td>\n",
       "      <td>1</td>\n",
       "      <td>2</td>\n",
       "      <td>1</td>\n",
       "    </tr>\n",
       "    <tr>\n",
       "      <th>top</th>\n",
       "      <td>False</td>\n",
       "      <td>False</td>\n",
       "      <td>False</td>\n",
       "      <td>False</td>\n",
       "      <td>False</td>\n",
       "      <td>False</td>\n",
       "      <td>False</td>\n",
       "      <td>False</td>\n",
       "      <td>False</td>\n",
       "      <td>False</td>\n",
       "      <td>False</td>\n",
       "      <td>False</td>\n",
       "    </tr>\n",
       "    <tr>\n",
       "      <th>freq</th>\n",
       "      <td>91231</td>\n",
       "      <td>91231</td>\n",
       "      <td>86264</td>\n",
       "      <td>75082</td>\n",
       "      <td>75082</td>\n",
       "      <td>75082</td>\n",
       "      <td>75082</td>\n",
       "      <td>75035</td>\n",
       "      <td>91231</td>\n",
       "      <td>91231</td>\n",
       "      <td>75082</td>\n",
       "      <td>91231</td>\n",
       "    </tr>\n",
       "  </tbody>\n",
       "</table>\n",
       "</div>"
      ],
      "text/plain": [
       "       crop_name_cat total_hours_cat highest_grade_cat hh_mem_rel_cat  \\\n",
       "count          91231           91231             91231          91231   \n",
       "unique             1               1                 2              2   \n",
       "top            False           False             False          False   \n",
       "freq           91231           91231             86264          75082   \n",
       "\n",
       "       adv_services_cat ext_program_cat who_decides_use_crops_cat  \\\n",
       "count             91231           91231                     91231   \n",
       "unique                2               2                         2   \n",
       "top               False           False                     False   \n",
       "freq              75082           75082                     75082   \n",
       "\n",
       "       marital_stat_cat ages_cat hh_size_cat region_cat sex_of_hh_member  \n",
       "count             91231    91231       91231      91231            91231  \n",
       "unique                2        1           1          2                1  \n",
       "top               False    False       False      False            False  \n",
       "freq              75035    91231       91231      75082            91231  "
      ]
     },
     "execution_count": 9,
     "metadata": {},
     "output_type": "execute_result"
    }
   ],
   "source": [
    "newdf.isnull().describe()"
   ]
  },
  {
   "cell_type": "code",
   "execution_count": 10,
   "metadata": {
    "collapsed": true
   },
   "outputs": [],
   "source": [
    "x = newdf.dropna(axis=0)"
   ]
  },
  {
   "cell_type": "code",
   "execution_count": 11,
   "metadata": {
    "scrolled": true
   },
   "outputs": [
    {
     "data": {
      "text/plain": [
       "(71087, 12)"
      ]
     },
     "execution_count": 11,
     "metadata": {},
     "output_type": "execute_result"
    }
   ],
   "source": [
    "x.shape"
   ]
  },
  {
   "cell_type": "code",
   "execution_count": 12,
   "metadata": {},
   "outputs": [
    {
     "data": {
      "text/html": [
       "<div>\n",
       "<style>\n",
       "    .dataframe thead tr:only-child th {\n",
       "        text-align: right;\n",
       "    }\n",
       "\n",
       "    .dataframe thead th {\n",
       "        text-align: left;\n",
       "    }\n",
       "\n",
       "    .dataframe tbody tr th {\n",
       "        vertical-align: top;\n",
       "    }\n",
       "</style>\n",
       "<table border=\"1\" class=\"dataframe\">\n",
       "  <thead>\n",
       "    <tr style=\"text-align: right;\">\n",
       "      <th></th>\n",
       "      <th>crop_name_cat</th>\n",
       "      <th>total_hours_cat</th>\n",
       "      <th>highest_grade_cat</th>\n",
       "      <th>hh_mem_rel_cat</th>\n",
       "      <th>adv_services_cat</th>\n",
       "      <th>ext_program_cat</th>\n",
       "      <th>who_decides_use_crops_cat</th>\n",
       "      <th>marital_stat_cat</th>\n",
       "      <th>ages_cat</th>\n",
       "      <th>hh_size_cat</th>\n",
       "      <th>region_cat</th>\n",
       "      <th>sex_of_hh_member</th>\n",
       "    </tr>\n",
       "  </thead>\n",
       "  <tbody>\n",
       "    <tr>\n",
       "      <th>0</th>\n",
       "      <td>MAIZE</td>\n",
       "      <td>0 Hours</td>\n",
       "      <td>0-5th Grade</td>\n",
       "      <td>head</td>\n",
       "      <td>no</td>\n",
       "      <td>yes</td>\n",
       "      <td>adult_females</td>\n",
       "      <td>never_married</td>\n",
       "      <td>Over 21</td>\n",
       "      <td>More than 6_HH_Members</td>\n",
       "      <td>north</td>\n",
       "      <td>2.0</td>\n",
       "    </tr>\n",
       "    <tr>\n",
       "      <th>1</th>\n",
       "      <td>SORGHUM</td>\n",
       "      <td>0 Hours</td>\n",
       "      <td>0-5th Grade</td>\n",
       "      <td>head</td>\n",
       "      <td>no</td>\n",
       "      <td>yes</td>\n",
       "      <td>adult_females</td>\n",
       "      <td>never_married</td>\n",
       "      <td>Over 21</td>\n",
       "      <td>More than 6_HH_Members</td>\n",
       "      <td>north</td>\n",
       "      <td>2.0</td>\n",
       "    </tr>\n",
       "    <tr>\n",
       "      <th>2</th>\n",
       "      <td>SESAME</td>\n",
       "      <td>0 Hours</td>\n",
       "      <td>0-5th Grade</td>\n",
       "      <td>spouse</td>\n",
       "      <td>yes</td>\n",
       "      <td>yes</td>\n",
       "      <td>adult_females</td>\n",
       "      <td>married_mono</td>\n",
       "      <td>Over 21</td>\n",
       "      <td>More than 6_HH_Members</td>\n",
       "      <td>north</td>\n",
       "      <td>2.0</td>\n",
       "    </tr>\n",
       "    <tr>\n",
       "      <th>3</th>\n",
       "      <td>SORGHUM</td>\n",
       "      <td>0 Hours</td>\n",
       "      <td>0-5th Grade</td>\n",
       "      <td>spouse</td>\n",
       "      <td>yes</td>\n",
       "      <td>yes</td>\n",
       "      <td>adult_females</td>\n",
       "      <td>married_mono</td>\n",
       "      <td>Over 21</td>\n",
       "      <td>More than 6_HH_Members</td>\n",
       "      <td>north</td>\n",
       "      <td>2.0</td>\n",
       "    </tr>\n",
       "    <tr>\n",
       "      <th>4</th>\n",
       "      <td>SESAME</td>\n",
       "      <td>0 Hours</td>\n",
       "      <td>0-5th Grade</td>\n",
       "      <td>spouse</td>\n",
       "      <td>yes</td>\n",
       "      <td>yes</td>\n",
       "      <td>adult_females</td>\n",
       "      <td>married_mono</td>\n",
       "      <td>Over 21</td>\n",
       "      <td>More than 6_HH_Members</td>\n",
       "      <td>north</td>\n",
       "      <td>2.0</td>\n",
       "    </tr>\n",
       "  </tbody>\n",
       "</table>\n",
       "</div>"
      ],
      "text/plain": [
       "  crop_name_cat total_hours_cat highest_grade_cat hh_mem_rel_cat  \\\n",
       "0         MAIZE         0 Hours       0-5th Grade           head   \n",
       "1       SORGHUM         0 Hours       0-5th Grade           head   \n",
       "2        SESAME         0 Hours       0-5th Grade         spouse   \n",
       "3       SORGHUM         0 Hours       0-5th Grade         spouse   \n",
       "4        SESAME         0 Hours       0-5th Grade         spouse   \n",
       "\n",
       "  adv_services_cat ext_program_cat who_decides_use_crops_cat marital_stat_cat  \\\n",
       "0               no             yes             adult_females    never_married   \n",
       "1               no             yes             adult_females    never_married   \n",
       "2              yes             yes             adult_females     married_mono   \n",
       "3              yes             yes             adult_females     married_mono   \n",
       "4              yes             yes             adult_females     married_mono   \n",
       "\n",
       "  ages_cat             hh_size_cat region_cat  sex_of_hh_member  \n",
       "0  Over 21  More than 6_HH_Members      north               2.0  \n",
       "1  Over 21  More than 6_HH_Members      north               2.0  \n",
       "2  Over 21  More than 6_HH_Members      north               2.0  \n",
       "3  Over 21  More than 6_HH_Members      north               2.0  \n",
       "4  Over 21  More than 6_HH_Members      north               2.0  "
      ]
     },
     "execution_count": 12,
     "metadata": {},
     "output_type": "execute_result"
    }
   ],
   "source": [
    "x.head()"
   ]
  },
  {
   "cell_type": "code",
   "execution_count": 13,
   "metadata": {},
   "outputs": [
    {
     "name": "stderr",
     "output_type": "stream",
     "text": [
      "/Users/dominic/anaconda3/lib/python3.6/site-packages/ipykernel_launcher.py:1: SettingWithCopyWarning: \n",
      "A value is trying to be set on a copy of a slice from a DataFrame.\n",
      "Try using .loc[row_indexer,col_indexer] = value instead\n",
      "\n",
      "See the caveats in the documentation: http://pandas.pydata.org/pandas-docs/stable/indexing.html#indexing-view-versus-copy\n",
      "  \"\"\"Entry point for launching an IPython kernel.\n"
     ]
    }
   ],
   "source": [
    "x[\"sex_of_hh_member\"] = x[\"sex_of_hh_member\"].astype(\"category\", copy=False)"
   ]
  },
  {
   "cell_type": "code",
   "execution_count": 14,
   "metadata": {
    "scrolled": true
   },
   "outputs": [
    {
     "data": {
      "text/html": [
       "<div>\n",
       "<style>\n",
       "    .dataframe thead tr:only-child th {\n",
       "        text-align: right;\n",
       "    }\n",
       "\n",
       "    .dataframe thead th {\n",
       "        text-align: left;\n",
       "    }\n",
       "\n",
       "    .dataframe tbody tr th {\n",
       "        vertical-align: top;\n",
       "    }\n",
       "</style>\n",
       "<table border=\"1\" class=\"dataframe\">\n",
       "  <thead>\n",
       "    <tr style=\"text-align: right;\">\n",
       "      <th></th>\n",
       "      <th>crop_name_cat</th>\n",
       "      <th>total_hours_cat</th>\n",
       "      <th>highest_grade_cat</th>\n",
       "      <th>hh_mem_rel_cat</th>\n",
       "      <th>adv_services_cat</th>\n",
       "      <th>ext_program_cat</th>\n",
       "      <th>who_decides_use_crops_cat</th>\n",
       "      <th>marital_stat_cat</th>\n",
       "      <th>ages_cat</th>\n",
       "      <th>hh_size_cat</th>\n",
       "      <th>region_cat</th>\n",
       "      <th>sex_of_hh_member</th>\n",
       "    </tr>\n",
       "  </thead>\n",
       "  <tbody>\n",
       "    <tr>\n",
       "      <th>count</th>\n",
       "      <td>71087</td>\n",
       "      <td>71087</td>\n",
       "      <td>71087</td>\n",
       "      <td>71087</td>\n",
       "      <td>71087</td>\n",
       "      <td>71087</td>\n",
       "      <td>71087</td>\n",
       "      <td>71087</td>\n",
       "      <td>71087</td>\n",
       "      <td>71087</td>\n",
       "      <td>71087</td>\n",
       "      <td>71087.0</td>\n",
       "    </tr>\n",
       "    <tr>\n",
       "      <th>unique</th>\n",
       "      <td>54</td>\n",
       "      <td>5</td>\n",
       "      <td>2</td>\n",
       "      <td>15</td>\n",
       "      <td>2</td>\n",
       "      <td>2</td>\n",
       "      <td>7</td>\n",
       "      <td>6</td>\n",
       "      <td>2</td>\n",
       "      <td>2</td>\n",
       "      <td>2</td>\n",
       "      <td>1.0</td>\n",
       "    </tr>\n",
       "    <tr>\n",
       "      <th>top</th>\n",
       "      <td>MAIZE</td>\n",
       "      <td>0 Hours</td>\n",
       "      <td>0-5th Grade</td>\n",
       "      <td>child</td>\n",
       "      <td>yes</td>\n",
       "      <td>yes</td>\n",
       "      <td>adult_females</td>\n",
       "      <td>married_mono</td>\n",
       "      <td>Over 21</td>\n",
       "      <td>More than 6_HH_Members</td>\n",
       "      <td>south</td>\n",
       "      <td>2.0</td>\n",
       "    </tr>\n",
       "    <tr>\n",
       "      <th>freq</th>\n",
       "      <td>14517</td>\n",
       "      <td>36913</td>\n",
       "      <td>60150</td>\n",
       "      <td>33451</td>\n",
       "      <td>53666</td>\n",
       "      <td>39553</td>\n",
       "      <td>36854</td>\n",
       "      <td>29614</td>\n",
       "      <td>37069</td>\n",
       "      <td>48348</td>\n",
       "      <td>43638</td>\n",
       "      <td>71087.0</td>\n",
       "    </tr>\n",
       "  </tbody>\n",
       "</table>\n",
       "</div>"
      ],
      "text/plain": [
       "       crop_name_cat total_hours_cat highest_grade_cat hh_mem_rel_cat  \\\n",
       "count          71087           71087             71087          71087   \n",
       "unique            54               5                 2             15   \n",
       "top            MAIZE         0 Hours       0-5th Grade          child   \n",
       "freq           14517           36913             60150          33451   \n",
       "\n",
       "       adv_services_cat ext_program_cat who_decides_use_crops_cat  \\\n",
       "count             71087           71087                     71087   \n",
       "unique                2               2                         7   \n",
       "top                 yes             yes             adult_females   \n",
       "freq              53666           39553                     36854   \n",
       "\n",
       "       marital_stat_cat ages_cat             hh_size_cat region_cat  \\\n",
       "count             71087    71087                   71087      71087   \n",
       "unique                6        2                       2          2   \n",
       "top        married_mono  Over 21  More than 6_HH_Members      south   \n",
       "freq              29614    37069                   48348      43638   \n",
       "\n",
       "        sex_of_hh_member  \n",
       "count            71087.0  \n",
       "unique               1.0  \n",
       "top                  2.0  \n",
       "freq             71087.0  "
      ]
     },
     "execution_count": 14,
     "metadata": {},
     "output_type": "execute_result"
    }
   ],
   "source": [
    "x.describe()"
   ]
  },
  {
   "cell_type": "markdown",
   "metadata": {},
   "source": [
    "###### So I messed up.... kinda\n",
    "\n",
    "Some of the data in the dataset was already given an integer representing it's categorical status.\n",
    "\n",
    "I converted all of these to the string representation so I could turn them back apparently.\n",
    "\n",
    "However, some of the variables do need to follow the following transformations so not all is wasted"
   ]
  },
  {
   "cell_type": "code",
   "execution_count": 15,
   "metadata": {
    "collapsed": true
   },
   "outputs": [],
   "source": [
    "def inv_cat_cols(col, keys):\n",
    "    values = []\n",
    "    i=0\n",
    "    while i <len(keys):\n",
    "        i=i+1\n",
    "        values.append(i)\n",
    "    d=dict(zip(keys, values))\n",
    "\n",
    "    newlist=[]\n",
    "    for j in col:\n",
    "        for k, vals in d.items():\n",
    "            if j == k:\n",
    "                newlist.append(vals)\n",
    "                \n",
    "    newlist=pd.DataFrame(newlist)\n",
    "    return newlist"
   ]
  },
  {
   "cell_type": "code",
   "execution_count": 16,
   "metadata": {
    "collapsed": true
   },
   "outputs": [],
   "source": [
    "def get_keys(col):\n",
    "    x = []\n",
    "    for i in col.unique():\n",
    "        x.append(i)\n",
    "    return x"
   ]
  },
  {
   "cell_type": "markdown",
   "metadata": {},
   "source": [
    "###### List to iterate over to attempt to make things easy"
   ]
  },
  {
   "cell_type": "code",
   "execution_count": 17,
   "metadata": {
    "collapsed": true
   },
   "outputs": [],
   "source": [
    "th_keys=[]\n",
    "cn_keys=[]\n",
    "hg_keys=[]\n",
    "hhmem_keys=[]\n",
    "as_keys=[]\n",
    "ep_keys=[]\n",
    "wd_keys=[]\n",
    "ms_keys=[]\n",
    "a_keys=[]\n",
    "hhs_keys=[]\n",
    "r_keys=[]\n",
    "\n",
    "key_names = [th_keys, cn_keys, hg_keys, hhmem_keys, as_keys, \n",
    "             ep_keys, wd_keys, ms_keys, a_keys, hhs_keys, r_keys\n",
    "            ]\n",
    "col_names = [x[\"total_hours_cat\"], x[\"crop_name_cat\"],\n",
    "             x[\"highest_grade_cat\"], x[\"hh_mem_rel_cat\"],\n",
    "             x[\"adv_services_cat\"], x[\"ext_program_cat\"], \n",
    "             x[\"who_decides_use_crops_cat\"], \n",
    "             x[\"marital_stat_cat\"], x[\"ages_cat\"], \n",
    "             x[\"hh_size_cat\"], x[\"region_cat\"]\n",
    "            ]\n"
   ]
  },
  {
   "cell_type": "markdown",
   "metadata": {},
   "source": [
    "###### Finds unique values within each column and makes them the key"
   ]
  },
  {
   "cell_type": "code",
   "execution_count": 18,
   "metadata": {
    "collapsed": true
   },
   "outputs": [],
   "source": [
    "i = 0\n",
    "while i <len(key_names):\n",
    "    key_names[i]=get_keys(col_names[i])\n",
    "    i = i + 1"
   ]
  },
  {
   "cell_type": "markdown",
   "metadata": {},
   "source": [
    "###### Creates a list of dataframes containing the integer representation of the categories"
   ]
  },
  {
   "cell_type": "code",
   "execution_count": 19,
   "metadata": {
    "collapsed": true
   },
   "outputs": [],
   "source": [
    "invdf=[]\n",
    "i=0\n",
    "while i <len(key_names):\n",
    "    invdf.append(inv_cat_cols(col_names[i], key_names[i]))\n",
    "    i=i+1\n",
    "    "
   ]
  },
  {
   "cell_type": "markdown",
   "metadata": {},
   "source": [
    "###### Concatenate the Results\n",
    "\n",
    "Now that we have a list of dataframes, we can concatenate them into one"
   ]
  },
  {
   "cell_type": "code",
   "execution_count": 20,
   "metadata": {
    "collapsed": true
   },
   "outputs": [],
   "source": [
    "invdf = pd.concat(invdf, axis=1)"
   ]
  },
  {
   "cell_type": "code",
   "execution_count": 21,
   "metadata": {},
   "outputs": [
    {
     "data": {
      "text/html": [
       "<div>\n",
       "<style>\n",
       "    .dataframe thead tr:only-child th {\n",
       "        text-align: right;\n",
       "    }\n",
       "\n",
       "    .dataframe thead th {\n",
       "        text-align: left;\n",
       "    }\n",
       "\n",
       "    .dataframe tbody tr th {\n",
       "        vertical-align: top;\n",
       "    }\n",
       "</style>\n",
       "<table border=\"1\" class=\"dataframe\">\n",
       "  <thead>\n",
       "    <tr style=\"text-align: right;\">\n",
       "      <th></th>\n",
       "      <th>total_hours_cat</th>\n",
       "      <th>crop_name_cat</th>\n",
       "      <th>highest_grade_cat</th>\n",
       "      <th>hh_mem_rel_cat</th>\n",
       "      <th>adv_services_cat</th>\n",
       "      <th>ext_program_cat</th>\n",
       "      <th>who_decides_use_crops_cat</th>\n",
       "      <th>marital_stat_cat</th>\n",
       "      <th>ages_cat</th>\n",
       "      <th>hh_size_cat</th>\n",
       "      <th>region_cat</th>\n",
       "    </tr>\n",
       "  </thead>\n",
       "  <tbody>\n",
       "    <tr>\n",
       "      <th>0</th>\n",
       "      <td>1</td>\n",
       "      <td>1</td>\n",
       "      <td>1</td>\n",
       "      <td>1</td>\n",
       "      <td>1</td>\n",
       "      <td>1</td>\n",
       "      <td>1</td>\n",
       "      <td>1</td>\n",
       "      <td>1</td>\n",
       "      <td>1</td>\n",
       "      <td>1</td>\n",
       "    </tr>\n",
       "    <tr>\n",
       "      <th>1</th>\n",
       "      <td>1</td>\n",
       "      <td>2</td>\n",
       "      <td>1</td>\n",
       "      <td>1</td>\n",
       "      <td>1</td>\n",
       "      <td>1</td>\n",
       "      <td>1</td>\n",
       "      <td>1</td>\n",
       "      <td>1</td>\n",
       "      <td>1</td>\n",
       "      <td>1</td>\n",
       "    </tr>\n",
       "    <tr>\n",
       "      <th>2</th>\n",
       "      <td>1</td>\n",
       "      <td>3</td>\n",
       "      <td>1</td>\n",
       "      <td>2</td>\n",
       "      <td>2</td>\n",
       "      <td>1</td>\n",
       "      <td>1</td>\n",
       "      <td>2</td>\n",
       "      <td>1</td>\n",
       "      <td>1</td>\n",
       "      <td>1</td>\n",
       "    </tr>\n",
       "    <tr>\n",
       "      <th>3</th>\n",
       "      <td>1</td>\n",
       "      <td>2</td>\n",
       "      <td>1</td>\n",
       "      <td>2</td>\n",
       "      <td>2</td>\n",
       "      <td>1</td>\n",
       "      <td>1</td>\n",
       "      <td>2</td>\n",
       "      <td>1</td>\n",
       "      <td>1</td>\n",
       "      <td>1</td>\n",
       "    </tr>\n",
       "    <tr>\n",
       "      <th>4</th>\n",
       "      <td>1</td>\n",
       "      <td>3</td>\n",
       "      <td>1</td>\n",
       "      <td>2</td>\n",
       "      <td>2</td>\n",
       "      <td>1</td>\n",
       "      <td>1</td>\n",
       "      <td>2</td>\n",
       "      <td>1</td>\n",
       "      <td>1</td>\n",
       "      <td>1</td>\n",
       "    </tr>\n",
       "  </tbody>\n",
       "</table>\n",
       "</div>"
      ],
      "text/plain": [
       "   total_hours_cat  crop_name_cat  highest_grade_cat  hh_mem_rel_cat  \\\n",
       "0                1              1                  1               1   \n",
       "1                1              2                  1               1   \n",
       "2                1              3                  1               2   \n",
       "3                1              2                  1               2   \n",
       "4                1              3                  1               2   \n",
       "\n",
       "   adv_services_cat  ext_program_cat  who_decides_use_crops_cat  \\\n",
       "0                 1                1                          1   \n",
       "1                 1                1                          1   \n",
       "2                 2                1                          1   \n",
       "3                 2                1                          1   \n",
       "4                 2                1                          1   \n",
       "\n",
       "   marital_stat_cat  ages_cat  hh_size_cat  region_cat  \n",
       "0                 1         1            1           1  \n",
       "1                 1         1            1           1  \n",
       "2                 2         1            1           1  \n",
       "3                 2         1            1           1  \n",
       "4                 2         1            1           1  "
      ]
     },
     "execution_count": 21,
     "metadata": {},
     "output_type": "execute_result"
    }
   ],
   "source": [
    "invdf.columns=[\"total_hours_cat\", \"crop_name_cat\", \n",
    "               \"highest_grade_cat\", \"hh_mem_rel_cat\", \n",
    "               \"adv_services_cat\", \"ext_program_cat\", \n",
    "               \"who_decides_use_crops_cat\",\n",
    "               \"marital_stat_cat\", \"ages_cat\", \n",
    "               \"hh_size_cat\", \"region_cat\"\n",
    "              ]\n",
    "invdf.head()"
   ]
  },
  {
   "cell_type": "markdown",
   "metadata": {},
   "source": [
    "###### Now that the data has integer representations \n",
    "\n",
    "It has to be designated as a categorical value"
   ]
  },
  {
   "cell_type": "code",
   "execution_count": 22,
   "metadata": {
    "collapsed": true
   },
   "outputs": [],
   "source": [
    "for i in invdf.columns:\n",
    "    invdf[i] = invdf[i].astype(\"category\", copy=False)"
   ]
  },
  {
   "cell_type": "markdown",
   "metadata": {},
   "source": [
    "invdf.shape"
   ]
  },
  {
   "cell_type": "code",
   "execution_count": null,
   "metadata": {
    "scrolled": true
   },
   "outputs": [],
   "source": [
    "invdf.describe()"
   ]
  },
  {
   "cell_type": "markdown",
   "metadata": {},
   "source": [
    "###### Look at data dist"
   ]
  },
  {
   "cell_type": "code",
   "execution_count": null,
   "metadata": {
    "collapsed": true
   },
   "outputs": [],
   "source": [
    "g  = sns.pairplot(data = invdf, dropna=True, hue=\"total_hours_cat\")"
   ]
  },
  {
   "cell_type": "code",
   "execution_count": null,
   "metadata": {
    "collapsed": true
   },
   "outputs": [],
   "source": [
    "g = sns.factorplot(\"total_hours_cat\", col=\"crop_name_cat\", col_wrap=4, data=invdf, \n",
    "                   kind=\"count\", size=4, aspect=.8)\n",
    "\n",
    "fig = g.get_figure()\n",
    "fig.savefig(\"totalhoursvcropname.pdf\")"
   ]
  },
  {
   "cell_type": "code",
   "execution_count": null,
   "metadata": {
    "collapsed": true
   },
   "outputs": [],
   "source": [
    "g = sns.factorplot(\"total_hours_cat\", col=\"region_cat\", col_wrap=4, data=invdf, \n",
    "                   kind=\"count\", size=4, aspect=.8)\n",
    "\n",
    "fig = g.get_figure()\n",
    "fig.savefig(\"totalhoursvregion.pdf\")"
   ]
  },
  {
   "cell_type": "code",
   "execution_count": null,
   "metadata": {
    "collapsed": true
   },
   "outputs": [],
   "source": [
    "g = sns.factorplot(\"total_hours_cat\", col=\"hh_mem_rel_cat\", col_wrap=4, data=invdf, \n",
    "                   kind=\"count\", size=4, aspect=.8)\n",
    "\n",
    "fig = g.get_figure()\n",
    "fig.savefig(\"totalhoursvhhmem.pdf\")"
   ]
  },
  {
   "cell_type": "code",
   "execution_count": null,
   "metadata": {
    "collapsed": true
   },
   "outputs": [],
   "source": [
    "g = sns.jointplot(\"total_hours_cat\", \"ages_cat\", invdf)"
   ]
  },
  {
   "cell_type": "code",
   "execution_count": null,
   "metadata": {
    "collapsed": true
   },
   "outputs": [],
   "source": [
    "g = sns.jointplot(\"total_hours_cat\", \"hh_size_cat\", invdf)"
   ]
  },
  {
   "cell_type": "markdown",
   "metadata": {},
   "source": [
    "###### Look for Separability"
   ]
  },
  {
   "cell_type": "code",
   "execution_count": null,
   "metadata": {
    "collapsed": true
   },
   "outputs": [],
   "source": [
    "invdf = invdf.dropna(axis=0)\n",
    "invdf.shape"
   ]
  },
  {
   "cell_type": "code",
   "execution_count": null,
   "metadata": {
    "collapsed": true,
    "scrolled": true
   },
   "outputs": [],
   "source": [
    "from pandas.plotting import radviz\n",
    "\n",
    "plt.figure()\n",
    "radviz(invdf, \"total_hours_cat\")"
   ]
  },
  {
   "cell_type": "code",
   "execution_count": null,
   "metadata": {
    "collapsed": true
   },
   "outputs": [],
   "source": [
    "invdf_sam = invdf.sample(frac=0.4, replace=True)\n",
    "invdf_sam.head()"
   ]
  },
  {
   "cell_type": "code",
   "execution_count": null,
   "metadata": {
    "collapsed": true
   },
   "outputs": [],
   "source": [
    "invdf_sam.shape"
   ]
  },
  {
   "cell_type": "code",
   "execution_count": null,
   "metadata": {
    "collapsed": true
   },
   "outputs": [],
   "source": [
    "import matplotlib as mpl\n",
    "from pandas.plotting import parallel_coordinates\n",
    "\n",
    "plt.figure(figsize=(14,14))\n",
    "mpl.rcParams.update({'font.size': 25})\n",
    "\n",
    "parallel_coordinates(invdf_sam, \"total_hours_cat\")"
   ]
  },
  {
   "cell_type": "markdown",
   "metadata": {},
   "source": [
    "###### Encode Target & Features"
   ]
  },
  {
   "cell_type": "code",
   "execution_count": 23,
   "metadata": {},
   "outputs": [
    {
     "name": "stdout",
     "output_type": "stream",
     "text": [
      "[1 2 3 4 5]\n"
     ]
    }
   ],
   "source": [
    "from sklearn.preprocessing import LabelEncoder\n",
    "\n",
    "encoder=LabelEncoder()\n",
    "y=encoder.fit(invdf[\"total_hours_cat\"])\n",
    "print(y.classes_)"
   ]
  },
  {
   "cell_type": "code",
   "execution_count": 24,
   "metadata": {},
   "outputs": [
    {
     "data": {
      "text/plain": [
       "array([0, 0, 0, ..., 0, 0, 0])"
      ]
     },
     "execution_count": 24,
     "metadata": {},
     "output_type": "execute_result"
    }
   ],
   "source": [
    "y.transform(invdf[\"total_hours_cat\"])"
   ]
  },
  {
   "cell_type": "code",
   "execution_count": 25,
   "metadata": {
    "collapsed": true
   },
   "outputs": [],
   "source": [
    "from sklearn.base import BaseEstimator, TransformerMixin \n",
    "\n",
    "class DataEncoder(BaseEstimator, TransformerMixin):\n",
    "    \n",
    "    def fit(self, X, y=None):\n",
    "        if not isinstance(X, pd.DataFrame):\n",
    "            raise TypeError(\n",
    "                \"This transformer only knows how to handle data frames!\"\n",
    "            )\n",
    "        \n",
    "        self.encoders = [\n",
    "            LabelEncoder().fit(X[column])\n",
    "            for column in X.columns\n",
    "        ]\n",
    "        return self\n",
    "    \n",
    "    def transform(self, X):\n",
    "        for idx, column in enumerate(X.columns):\n",
    "            X[column] = self.encoders[idx].transform(X[column])\n",
    "        return X\n",
    "    \n",
    "    def inverse_transform(self, X):\n",
    "        for idx, column in enumerate(X.columns):\n",
    "            X[column] = self.encoders[idx].inverse_transform(X[column])\n",
    "        return X"
   ]
  },
  {
   "cell_type": "code",
   "execution_count": 26,
   "metadata": {
    "collapsed": true
   },
   "outputs": [],
   "source": [
    "y = invdf.pop(\"total_hours_cat\")\n",
    "y = pd.DataFrame(y)\n",
    "y.columns = [\"total_hours_cat\"]\n",
    "X = invdf"
   ]
  },
  {
   "cell_type": "code",
   "execution_count": 27,
   "metadata": {},
   "outputs": [
    {
     "data": {
      "text/plain": [
       "Index(['crop_name_cat', 'highest_grade_cat', 'hh_mem_rel_cat',\n",
       "       'adv_services_cat', 'ext_program_cat', 'who_decides_use_crops_cat',\n",
       "       'marital_stat_cat', 'ages_cat', 'hh_size_cat', 'region_cat'],\n",
       "      dtype='object')"
      ]
     },
     "execution_count": 27,
     "metadata": {},
     "output_type": "execute_result"
    }
   ],
   "source": [
    "X.columns"
   ]
  },
  {
   "cell_type": "code",
   "execution_count": 28,
   "metadata": {
    "collapsed": true
   },
   "outputs": [],
   "source": [
    "Xencoder = DataEncoder()\n",
    "yencoder = LabelEncoder()\n",
    "X = Xencoder.fit_transform(X)\n",
    "y = yencoder.fit_transform(np.ravel(y))"
   ]
  },
  {
   "cell_type": "markdown",
   "metadata": {},
   "source": [
    "###### Model Selection & Evaluation"
   ]
  },
  {
   "cell_type": "code",
   "execution_count": 29,
   "metadata": {
    "collapsed": true
   },
   "outputs": [],
   "source": [
    "from sklearn.neighbors import KNeighborsClassifier\n",
    "from sklearn.linear_model import LogisticRegressionCV, LogisticRegression, SGDClassifier\n",
    "from sklearn.ensemble import BaggingClassifier, ExtraTreesClassifier, RandomForestClassifier"
   ]
  },
  {
   "cell_type": "markdown",
   "metadata": {},
   "source": [
    "###### Model Selection Function\n",
    "\n",
    "Takes in the features and target data along with the specified model that you want to run"
   ]
  },
  {
   "cell_type": "code",
   "execution_count": 30,
   "metadata": {},
   "outputs": [
    {
     "name": "stderr",
     "output_type": "stream",
     "text": [
      "/Users/dominic/anaconda3/lib/python3.6/site-packages/sklearn/cross_validation.py:41: DeprecationWarning: This module was deprecated in version 0.18 in favor of the model_selection module into which all the refactored classes and functions are moved. Also note that the interface of the new CV iterators are different from that of this module. This module will be removed in 0.20.\n",
      "  \"This module will be removed in 0.20.\", DeprecationWarning)\n"
     ]
    }
   ],
   "source": [
    "from sklearn.metrics import f1_score\n",
    "from sklearn.metrics import mean_squared_error as mse\n",
    "from sklearn.metrics import r2_score\n",
    "from sklearn.metrics import classification_report\n",
    "from sklearn import cross_validation as cv\n",
    "from yellowbrick.classifier import ClassificationReport\n",
    "from sklearn.model_selection import train_test_split as tts\n",
    "from sklearn.cross_validation import KFold\n",
    "\n",
    "y_labels = key_names[0]\n",
    "\n",
    "def model_selection(X, y, estimator):\n",
    "    \n",
    "    X = X.as_matrix()\n",
    "    \n",
    "    X_train, X_test, y_train, y_test = tts(X,y,test_size=0.25)\n",
    "    \n",
    "    model = estimator\n",
    "    #model.fit(X_train, y_train)\n",
    "    #model.score(X_test, y_test)\n",
    "    #y_preds = model.predict(X)\n",
    "    #return classification_report(y, y_pred=y_preds, target_names = y_labels)\n",
    "    \n",
    "    visualizer = ClassificationReport(model, classes = y_labels)\n",
    "    \n",
    "    visualizer.fit(X_train,y_train)\n",
    "    \n",
    "    visualizer.score(X_test,y_test)\n",
    "    visualizer.poof()"
   ]
  },
  {
   "cell_type": "code",
   "execution_count": 31,
   "metadata": {
    "collapsed": true
   },
   "outputs": [],
   "source": [
    "from sklearn.metrics import f1_score\n",
    "from sklearn.metrics import mean_squared_error as mse\n",
    "from sklearn.metrics import r2_score\n",
    "from sklearn.metrics import classification_report\n",
    "from sklearn import cross_validation as cv\n",
    "from yellowbrick.classifier import ClassificationReport\n",
    "from sklearn.model_selection import train_test_split as tts\n",
    "from sklearn.cross_validation import KFold\n",
    "\n",
    "y_labels = key_names[0]\n",
    "\n",
    "def get_ypreds(X, y, estimator):\n",
    "    \n",
    "    X = X.as_matrix()\n",
    "    \n",
    "    X_train, X_test, y_train, y_test = tts(X,y,test_size=0.25)\n",
    "    \n",
    "    model = estimator\n",
    "    model.fit(X_train, y_train)\n",
    "    model.score(X_test, y_test)\n",
    "    y_preds = model.predict(X)\n",
    "    return y_preds"
   ]
  },
  {
   "cell_type": "markdown",
   "metadata": {},
   "source": [
    "###### This takes a while"
   ]
  },
  {
   "cell_type": "code",
   "execution_count": 33,
   "metadata": {},
   "outputs": [
    {
     "data": {
      "text/plain": [
       "KNeighborsClassifier(algorithm='auto', leaf_size=30, metric='minkowski',\n",
       "           metric_params=None, n_jobs=1, n_neighbors=6, p=2,\n",
       "           weights='uniform')"
      ]
     },
     "execution_count": 33,
     "metadata": {},
     "output_type": "execute_result"
    }
   ],
   "source": [
    "from sklearn.neighbors import KNeighborsClassifier\n",
    "\n",
    "model = KNeighborsClassifier(n_neighbors=6)\n",
    "X_train, X_test, y_train, y_test = tts(X,y,test_size=0.25)\n",
    "\n",
    "model.fit(X,y)\n",
    "\n"
   ]
  },
  {
   "cell_type": "code",
   "execution_count": 35,
   "metadata": {},
   "outputs": [
    {
     "data": {
      "text/plain": [
       "array([0, 1, 0, ..., 1, 1, 1])"
      ]
     },
     "execution_count": 35,
     "metadata": {},
     "output_type": "execute_result"
    }
   ],
   "source": [
    "model.predict(X)"
   ]
  },
  {
   "cell_type": "code",
   "execution_count": 40,
   "metadata": {},
   "outputs": [
    {
     "data": {
      "text/plain": [
       "0.66863605671843351"
      ]
     },
     "execution_count": 40,
     "metadata": {},
     "output_type": "execute_result"
    }
   ],
   "source": [
    "model.score(X_test,y_test)"
   ]
  },
  {
   "cell_type": "code",
   "execution_count": null,
   "metadata": {
    "collapsed": true
   },
   "outputs": [],
   "source": [
    "pd.DataFrame(knn_ypreds).describe()"
   ]
  },
  {
   "cell_type": "code",
   "execution_count": null,
   "metadata": {},
   "outputs": [],
   "source": [
    "import matplotlib as mpl\n",
    "\n",
    "plt.figure(figsize=(20,15))\n",
    "plt.autoscale(enable=True, axis=\"x\", tight=True)\n",
    "mpl.rcParams.update({'font.size': 25, \"axes.labelsize\":50,\n",
    "                     \"xtick.labelsize\": 40, \"ytick.labelsize\": 40, \n",
    "                     \"axes.titlesize\": 45})\n",
    "\n",
    "plt.savefig(\"knn.pdf\")\n",
    "\n",
    "model_selection(X,y, KNeighborsClassifier(n_neighbors=6))"
   ]
  },
  {
   "cell_type": "code",
   "execution_count": 42,
   "metadata": {},
   "outputs": [
    {
     "data": {
      "text/plain": [
       "0.70571685797884309"
      ]
     },
     "execution_count": 42,
     "metadata": {},
     "output_type": "execute_result"
    }
   ],
   "source": [
    "from sklearn.tree import DecisionTreeClassifier\n",
    "\n",
    "model = DecisionTreeClassifier()\n",
    "model.fit(X_train, y_train)\n",
    "model.score(X_test, y_test)"
   ]
  },
  {
   "cell_type": "code",
   "execution_count": null,
   "metadata": {
    "collapsed": true
   },
   "outputs": [],
   "source": [
    "pd.DataFrame(dtc_ypreds).describe()"
   ]
  },
  {
   "cell_type": "code",
   "execution_count": null,
   "metadata": {
    "collapsed": true
   },
   "outputs": [],
   "source": [
    "plt.figure(figsize=(20,15))\n",
    "plt.autoscale(enable=True, axis=\"x\", tight=True)\n",
    "mpl.rcParams.update({'font.size': 25, \"axes.labelsize\":50,\n",
    "                     \"xtick.labelsize\": 40, \"ytick.labelsize\": 40, \n",
    "                     \"axes.titlesize\": 45})\n",
    "\n",
    "plt.savefig(\"dtc.pdf\")\n",
    "\n",
    "model_selection(X, y, DecisionTreeClassifier())"
   ]
  },
  {
   "cell_type": "code",
   "execution_count": 43,
   "metadata": {},
   "outputs": [
    {
     "data": {
      "text/plain": [
       "0.70442268737339631"
      ]
     },
     "execution_count": 43,
     "metadata": {},
     "output_type": "execute_result"
    }
   ],
   "source": [
    "from sklearn.ensemble import RandomForestClassifier\n",
    "\n",
    "model = RandomForestClassifier()\n",
    "model.fit(X_train, y_train)\n",
    "model.score(X_test, y_test)"
   ]
  },
  {
   "cell_type": "code",
   "execution_count": null,
   "metadata": {
    "collapsed": true
   },
   "outputs": [],
   "source": [
    "pd.DataFrame(rfc_preds).describe()"
   ]
  },
  {
   "cell_type": "code",
   "execution_count": null,
   "metadata": {
    "collapsed": true
   },
   "outputs": [],
   "source": [
    "plt.figure(figsize=(20,15))\n",
    "plt.autoscale(enable=True, axis=\"x\", tight=True)\n",
    "mpl.rcParams.update({'font.size': 25, \"axes.labelsize\":50,\n",
    "                     \"xtick.labelsize\": 40, \"ytick.labelsize\": 40, \n",
    "                     \"axes.titlesize\": 45})\n",
    "\n",
    "plt.savefig(\"rfc.pdf\")\n",
    "\n",
    "model_selection(X, y, RandomForestClassifier())"
   ]
  },
  {
   "cell_type": "code",
   "execution_count": null,
   "metadata": {},
   "outputs": [],
   "source": [
    "from sklearn.svm import SVC\n",
    "\n",
    "plt.figure(figsize=(20,15))\n",
    "plt.autoscale(enable=True, axis=\"x\", tight=True)\n",
    "mpl.rcParams.update({'font.size': 25, \"axes.labelsize\":50,\n",
    "                     \"xtick.labelsize\": 40, \"ytick.labelsize\": 40, \n",
    "                     \"axes.titlesize\": 45})\n",
    "\n",
    "svm_preds = model_selection(X, y, SVC(kernel=\"rbf\"))"
   ]
  },
  {
   "cell_type": "code",
   "execution_count": 45,
   "metadata": {},
   "outputs": [
    {
     "data": {
      "text/plain": [
       "0.56954760297096552"
      ]
     },
     "execution_count": 45,
     "metadata": {},
     "output_type": "execute_result"
    }
   ],
   "source": [
    "from sklearn.svm import SVC\n",
    "\n",
    "model=SVC(kernel=\"rbf\")\n",
    "model.fit(X_train, y_train)\n",
    "model.score(X_test, y_test)"
   ]
  },
  {
   "cell_type": "code",
   "execution_count": null,
   "metadata": {
    "collapsed": true
   },
   "outputs": [],
   "source": [
    "X.iloc[:,0].min()"
   ]
  },
  {
   "cell_type": "code",
   "execution_count": null,
   "metadata": {},
   "outputs": [],
   "source": [
    "from sklearn.tree import DecisionTreeClassifier\n",
    "from sklearn.neighbors import KNeighborsClassifier\n",
    "from sklearn.svm import SVC\n",
    "from sklearn.ensemble import RandomForestClassifier\n",
    "from itertools import product\n",
    "\n",
    "clf1 = KNeighborsClassifier(n_neighbors=6)\n",
    "clf2 = DecisionTreeClassifier()\n",
    "clf3 = RandomForestClassifier()\n",
    "clf4 = SVC(kernel=\"rbf\")\n",
    "\n",
    "clfs = [clf1, clf2, clf3, clf4]\n",
    "\n",
    "for clf in clfs:\n",
    "    clf.fit(X,y)\n",
    "    \n",
    "x_min, x_max = X.iloc[:, 0].min() - 1, X.iloc[:, 0].max() + 1\n",
    "y_min, y_max = X.iloc[:, 1].min() - 1, X.iloc[:, 1].max() + 1\n",
    "xx, yy = np.meshgrid(np.arange(x_min, x_max, 0.1),\n",
    "                     np.arange(y_min, y_max, 0.1))\n",
    "\n",
    "\n",
    "f, axarr = plt.subplots(2, 2, sharex='col', sharey='row', figsize=(10, 8))\n",
    "for idx, clf, tt in zip(product([0, 1], [0, 1]),\n",
    "                        [clf1, clf2, clf3, clf4],\n",
    "                        ['KNN k=15', 'Decision Tree',\n",
    "                         'Random Forest Classifier',\n",
    "                         'SVC-RBF']):\n",
    "\n",
    "    Z = clf.predict(np.c_[xx.ravel(), yy.ravel()])\n",
    "    Z = Z.reshape(xx.shape)\n",
    "\n",
    "    axarr[idx[0], idx[1]].contourf(xx, yy, Z, alpha=0.4)\n",
    "    axarr[idx[0], idx[1]].scatter(X.iloc[:, 0], X.iloc[:, 1], c=y,\n",
    "                                  s=20, edgecolor='k')\n",
    "    axarr[idx[0], idx[1]].set_title(tt)\n",
    "plt.show()"
   ]
  },
  {
   "cell_type": "code",
   "execution_count": null,
   "metadata": {},
   "outputs": [],
   "source": [
    "import matplotlib as mpl\n",
    "\n",
    "kernels = [\"linear\", \"poly\", \"rbf\"]\n",
    "\n",
    "plt.figure(figsize=(20,15))\n",
    "plt.autoscale(enable=True, axis=\"x\", tight=True)\n",
    "mpl.rcParams.update({'font.size': 25, \"axes.labelsize\":50,\n",
    "                     \"xtick.labelsize\": 40, \"ytick.labelsize\": 40, \n",
    "                     \"axes.titlesize\": 45})\n",
    "\n",
    "plt.savefig(\"svc_rbf.pdf\")\n",
    "\n",
    "model_selection(X,y, SVC(kernel=kernels[2]))"
   ]
  },
  {
   "cell_type": "code",
   "execution_count": null,
   "metadata": {
    "collapsed": true
   },
   "outputs": [],
   "source": [
    "plt.figure(figsize=(20,15))\n",
    "plt.autoscale(enable=True, axis=\"x\", tight=True)\n",
    "mpl.rcParams.update({'font.size': 25, \"axes.labelsize\":50,\n",
    "                     \"xtick.labelsize\": 40, \"ytick.labelsize\": 40, \n",
    "                     \"axes.titlesize\": 45})\n",
    "\n",
    "plt.savefig(\"bc.pdf\")\n",
    "\n",
    "model_selection(X,y, BaggingClassifier())"
   ]
  },
  {
   "cell_type": "code",
   "execution_count": 46,
   "metadata": {},
   "outputs": [
    {
     "data": {
      "text/plain": [
       "0.70059644384424935"
      ]
     },
     "execution_count": 46,
     "metadata": {},
     "output_type": "execute_result"
    }
   ],
   "source": [
    "model = BaggingClassifier()\n",
    "model.fit(X_train, y_train)\n",
    "model.score(X_test, y_test)"
   ]
  },
  {
   "cell_type": "code",
   "execution_count": null,
   "metadata": {
    "collapsed": true
   },
   "outputs": [],
   "source": [
    "from sklearn.linear_model import LinearRegression\n",
    "\n",
    "#model_selection(X_train, y_train, LinearRegression())"
   ]
  },
  {
   "cell_type": "code",
   "execution_count": null,
   "metadata": {
    "collapsed": true
   },
   "outputs": [],
   "source": [
    "from sklearn.linear_model import Perceptron\n",
    "\n",
    "#model_selection(X_train, y_train, Perceptron())"
   ]
  },
  {
   "cell_type": "code",
   "execution_count": null,
   "metadata": {
    "collapsed": true
   },
   "outputs": [],
   "source": [
    "from sklearn.neighbors import KNeighborsRegressor\n",
    "\n",
    "#model_selection(X_train, y_train, KNeighborsRegressor())"
   ]
  },
  {
   "cell_type": "code",
   "execution_count": null,
   "metadata": {
    "collapsed": true
   },
   "outputs": [],
   "source": [
    "from sklearn.tree import DecisionTreeRegressor\n",
    "\n",
    "#model_selection(X_train, y_train, DecisionTreeRegressor())"
   ]
  },
  {
   "cell_type": "code",
   "execution_count": null,
   "metadata": {
    "collapsed": true
   },
   "outputs": [],
   "source": [
    "from sklearn.ensemble import RandomForestRegressor\n",
    "\n",
    "#model_selection(X_train, y_train, RandomForestRegressor())"
   ]
  },
  {
   "cell_type": "code",
   "execution_count": null,
   "metadata": {
    "collapsed": true
   },
   "outputs": [],
   "source": [
    "from sklearn.ensemble import AdaBoostRegressor\n",
    "\n",
    "#model_selection(X_train,y_train, AdaBoostRegressor())"
   ]
  },
  {
   "cell_type": "markdown",
   "metadata": {},
   "source": [
    "###### Relevant for Predicting Crop Values"
   ]
  },
  {
   "cell_type": "code",
   "execution_count": null,
   "metadata": {
    "collapsed": true
   },
   "outputs": [],
   "source": [
    "dfg = pd.concat([invdf, y_preds])\n",
    "dfg.shape"
   ]
  },
  {
   "cell_type": "code",
   "execution_count": null,
   "metadata": {
    "collapsed": true
   },
   "outputs": [],
   "source": [
    "dfg.describe()"
   ]
  },
  {
   "cell_type": "code",
   "execution_count": null,
   "metadata": {
    "collapsed": true
   },
   "outputs": [],
   "source": [
    "dfg.info()"
   ]
  }
 ],
 "metadata": {
  "kernelspec": {
   "display_name": "Python 3",
   "language": "python",
   "name": "python3"
  },
  "language_info": {
   "codemirror_mode": {
    "name": "ipython",
    "version": 3
   },
   "file_extension": ".py",
   "mimetype": "text/x-python",
   "name": "python",
   "nbconvert_exporter": "python",
   "pygments_lexer": "ipython3",
   "version": "3.6.3"
  }
 },
 "nbformat": 4,
 "nbformat_minor": 2
}
